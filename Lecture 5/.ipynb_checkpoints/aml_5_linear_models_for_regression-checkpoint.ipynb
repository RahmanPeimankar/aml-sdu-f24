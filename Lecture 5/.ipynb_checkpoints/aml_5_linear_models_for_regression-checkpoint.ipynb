{
 "cells": [
  {
   "cell_type": "markdown",
   "metadata": {
    "slideshow": {
     "slide_type": "slide"
    }
   },
   "source": [
    "<center><img src=\"img/aml-logo.png\" width=\"600\"/>\n",
    "\n",
    "***\n",
    "\n",
    "<center>Lecture 5</center>\n",
    "\n",
    "***\n",
    "\n",
    "<center>Linear models for Regression</center>\n",
    "\n",
    "***\n",
    "\n",
    "<center>4 March 2024<center>\n",
    "<center>Rahman Peimankar<center>"
   ]
  },
  {
   "cell_type": "markdown",
   "metadata": {
    "slideshow": {
     "slide_type": "slide"
    }
   },
   "source": [
    "# Agenda"
   ]
  },
  {
   "cell_type": "markdown",
   "metadata": {
    "slideshow": {
     "slide_type": "-"
    }
   },
   "source": [
    "* Handling of Missing Values\n",
    "* Linear Models for Regression\n",
    "    * Ordinary Least Squares\n",
    "    * Bias and Variance\n",
    "    * Ridge Regression\n",
    "    * Lasso Regression\n",
    "    * Understanding L1 and L2 Penalties\n",
    "    * Elastic Net"
   ]
  },
  {
   "cell_type": "markdown",
   "metadata": {
    "slideshow": {
     "slide_type": "slide"
    }
   },
   "source": [
    "# Recap of Last Week"
   ]
  },
  {
   "cell_type": "markdown",
   "metadata": {
    "slideshow": {
     "slide_type": "-"
    }
   },
   "source": [
    "<div>\n",
    "<center>\n",
    "<img src=\"img/image-3-lecture4.jpg\" width=\"700\"/>\n",
    "</div>"
   ]
  },
  {
   "cell_type": "markdown",
   "metadata": {
    "slideshow": {
     "slide_type": "slide"
    }
   },
   "source": [
    "<div>\n",
    "<center>\n",
    "<img src=\"img/image-4-lecture4.jpg\" width=\"1200\"/>\n",
    "</div>"
   ]
  },
  {
   "cell_type": "markdown",
   "metadata": {
    "slideshow": {
     "slide_type": "slide"
    }
   },
   "source": [
    "<div>\n",
    "<center>\n",
    "<img src=\"img/image-5-lecture4.jpg\" width=\"1200\"/>\n",
    "</div>"
   ]
  },
  {
   "cell_type": "markdown",
   "metadata": {
    "slideshow": {
     "slide_type": "slide"
    }
   },
   "source": [
    "<div>\n",
    "<center>\n",
    "<img src=\"img/image-9-lecture4.jpg\" width=\"1200\"/>\n",
    "</div>"
   ]
  },
  {
   "cell_type": "markdown",
   "metadata": {
    "slideshow": {
     "slide_type": "slide"
    }
   },
   "source": [
    "<div>\n",
    "<center>\n",
    "<img src=\"img/image-11-lecture4.jpg\" width=\"1500\"/>\n",
    "</div>"
   ]
  },
  {
   "cell_type": "markdown",
   "metadata": {
    "slideshow": {
     "slide_type": "slide"
    }
   },
   "source": [
    "# Dealing with missing values"
   ]
  },
  {
   "cell_type": "markdown",
   "metadata": {
    "slideshow": {
     "slide_type": "-"
    }
   },
   "source": [
    "* Missing values can be encoded in many ways\n",
    "* Numpy has no standard format for it (often np.NaN) - pandas does\n",
    "* Sometimes: 999, ???, ?, np.inf, “N/A”, “Unknown“ …\n",
    "* Not discussing “missing output” - that’s semi-supervised learning.\n",
    "* Often missingness is informative (Use MissingIndicator)"
   ]
  },
  {
   "cell_type": "markdown",
   "metadata": {
    "slideshow": {
     "slide_type": "slide"
    }
   },
   "source": [
    "# Imputation Methods"
   ]
  },
  {
   "cell_type": "markdown",
   "metadata": {
    "slideshow": {
     "slide_type": "-"
    }
   },
   "source": [
    "* Mean / Median\n",
    "* kNN\n",
    "* Regression models / model-driven (later)"
   ]
  },
  {
   "cell_type": "markdown",
   "metadata": {
    "slideshow": {
     "slide_type": "slide"
    }
   },
   "source": [
    "# Mean and Median"
   ]
  },
  {
   "cell_type": "markdown",
   "metadata": {
    "slideshow": {
     "slide_type": "-"
    }
   },
   "source": [
    "<div>\n",
    "<center>\n",
    "<img src=\"img/image-1.png\" width=\"900\"/>\n",
    "</div>"
   ]
  },
  {
   "cell_type": "code",
   "execution_count": 80,
   "metadata": {
    "slideshow": {
     "slide_type": "slide"
    }
   },
   "outputs": [
    {
     "data": {
      "text/plain": [
       "array([[ 7. ,  2. ,  3. ],\n",
       "       [ 4. ,  3.5,  6. ],\n",
       "       [10. ,  5. ,  9. ]])"
      ]
     },
     "execution_count": 80,
     "metadata": {},
     "output_type": "execute_result"
    }
   ],
   "source": [
    "\n",
    "import numpy as np\n",
    "from sklearn.impute import SimpleImputer\n",
    "\n",
    "X = np.array([[7, 2, 3], [4, np.nan, 6], [10, 5, 9]])\n",
    "\n",
    "# Define a \"SimpleImputer\" and \"fit\" it to the dataset X above to impute the values using \"mean\" and \"median\" approaches.\n",
    "\n",
    "# ### YOUR CODE HERE\n",
    "imp_median = SimpleImputer(missing_values=np.nan, strategy='median', verbose=0)\n",
    "imp_median.fit_transform(X)\n"
   ]
  },
  {
   "cell_type": "markdown",
   "metadata": {
    "slideshow": {
     "slide_type": "slide"
    }
   },
   "source": [
    "# KNN Imputation"
   ]
  },
  {
   "cell_type": "markdown",
   "metadata": {
    "slideshow": {
     "slide_type": "-"
    }
   },
   "source": [
    "* Find k nearest neighbors that have non-missing values.\n",
    "* Fill in all missing values using the average of the neighbors."
   ]
  },
  {
   "cell_type": "markdown",
   "metadata": {},
   "source": [
    "<div>\n",
    "<center>\n",
    "<img src=\"img/image-2.jpg\" width=\"900\"/>\n",
    "</div>"
   ]
  },
  {
   "cell_type": "markdown",
   "metadata": {
    "slideshow": {
     "slide_type": "skip"
    }
   },
   "source": [
    "# Model-Driven Imputation"
   ]
  },
  {
   "cell_type": "markdown",
   "metadata": {
    "slideshow": {
     "slide_type": "skip"
    }
   },
   "source": [
    "* Train regression model for missing values\n",
    "* Iterate: retrain after filling in"
   ]
  },
  {
   "cell_type": "markdown",
   "metadata": {
    "slideshow": {
     "slide_type": "skip"
    }
   },
   "source": [
    "# Comparision of Imputation Methods"
   ]
  },
  {
   "cell_type": "markdown",
   "metadata": {
    "slideshow": {
     "slide_type": "skip"
    }
   },
   "source": [
    "<div>\n",
    "<center>\n",
    "<img src=\"img/image-3.jpg\" width=\"1500\"/>\n",
    "</div>"
   ]
  },
  {
   "cell_type": "markdown",
   "metadata": {
    "slideshow": {
     "slide_type": "slide"
    }
   },
   "source": [
    "Please implenet a kNN imputer with K=3 for the dummy data below using sklearn `KNNImputer` function:"
   ]
  },
  {
   "cell_type": "code",
   "execution_count": 1,
   "metadata": {},
   "outputs": [],
   "source": [
    "import numpy as np\n",
    "from sklearn.impute import KNNImputer\n",
    "X = [[1, 2, np.nan], [3, 4, 3], [np.nan, 6, 5], [8, 8, 7]]\n",
    "\n",
    "### YOUR CODE HERE\n"
   ]
  },
  {
   "cell_type": "markdown",
   "metadata": {
    "slideshow": {
     "slide_type": "slide"
    }
   },
   "source": [
    "<font size=\"8\"><center> Linear Models"
   ]
  },
  {
   "cell_type": "markdown",
   "metadata": {
    "slideshow": {
     "slide_type": "slide"
    }
   },
   "source": [
    "# Linear Models for Regression"
   ]
  },
  {
   "cell_type": "markdown",
   "metadata": {
    "slideshow": {
     "slide_type": "-"
    }
   },
   "source": [
    "<div>\n",
    "<center>\n",
    "<table><tr>\n",
    "<td><font size='8'><img src=\"img/quest/Qimage-1.jpg\" width=\"300\"/>\n",
    "    <font size='8'><img src=\"img/quest/Qimage-2.jpg\" width=\"300\"/></td>\n",
    "<td><font size='8'><img src=\"img/quest/Qimage-4.jpg\" width=\"300\"/>\n",
    "    <font size='8'><img src=\"img/quest/Qimage-5.jpg\" width=\"300\"/></td>\n",
    "</tr></table>"
   ]
  },
  {
   "cell_type": "markdown",
   "metadata": {
    "slideshow": {
     "slide_type": "slide"
    }
   },
   "source": [
    "<div>\n",
    "<center>\n",
    "<font size='8'><img src=\"img/quest/Qimage-6.jpg\" width=\"400\"/>\n"
   ]
  },
  {
   "cell_type": "markdown",
   "metadata": {
    "slideshow": {
     "slide_type": "fragment"
    }
   },
   "source": [
    "<div>\n",
    "<center>\n",
    "<table><tr>\n",
    "<td><font size='8'><img src=\"img/quest/Qimage-7.jpg\" width=\"600\"/></td>\n",
    "<td><font size='8'><img src=\"img/quest/Qimage-8.jpg\" width=\"600\"/></td>\n",
    "</tr></table>"
   ]
  },
  {
   "cell_type": "markdown",
   "metadata": {
    "slideshow": {
     "slide_type": "slide"
    }
   },
   "source": [
    "<div>\n",
    "\n",
    "<table><tr>\n",
    "<td><font size='8'><img src=\"img/quest/Qimage-9.jpg\" width=\"300\"/></td>\n",
    "<td><font size='8'><img src=\"img/quest/Qimage-10.jpg\" width=\"300\"/></td>\n",
    "</tr></table>\n",
    "    \n",
    "$(b - y_1)^2 + (b - y_2)^2 + (b - y_3)^2 + (b - y_4)^2 + (b - y_5)^2 + (b - y_6)^2 + (b - y_7)^2 + (b - y_8)^2 + (b - y_9)^2 \\approx 24$\n",
    "    \n",
    " \n",
    "* This is our measure of how well this line fits the data.\n",
    "* It is called the \"sum of squared residuals\", because the residuals are the differences between the real data and the line, and we are summing the square of these values. "
   ]
  },
  {
   "cell_type": "markdown",
   "metadata": {
    "slideshow": {
     "slide_type": "slide"
    }
   },
   "source": [
    "\n",
    "<div>\n",
    "\n",
    "<table><tr>\n",
    "<td><img src=\"img/quest/Qimage-11.jpg\" width=\"350\"/>\n",
    "    \n",
    " </td>\n",
    "<td>\n",
    "    \n",
    "* The sum of squared residuals $\\approx$ 18\n",
    "* This is better than before</td>\n",
    "</tr></table>"
   ]
  },
  {
   "cell_type": "markdown",
   "metadata": {
    "slideshow": {
     "slide_type": "fragment"
    }
   },
   "source": [
    "\n",
    "<div>\n",
    "\n",
    "<table><tr>\n",
    "<td><img src=\"img/quest/Qimage-12.jpg\" width=\"350\"/>\n",
    "    \n",
    " </td>\n",
    "<td>\n",
    "\n",
    "* Does this fit improve if we rotate a little more?\n",
    "* Yes! The sum of squared residuals $\\approx$ 14\n",
    "* This is even better than before</td>\n",
    "</tr></table>"
   ]
  },
  {
   "cell_type": "markdown",
   "metadata": {
    "slideshow": {
     "slide_type": "slide"
    }
   },
   "source": [
    "\n",
    "<div>\n",
    "<center>\n",
    "<table><tr>\n",
    "<td><img src=\"img/quest/Qimage-13.jpg\" width=\"350\"/>\n",
    "    \n",
    " </td>\n",
    "<td>\n",
    "\n",
    "* What if we rotate the line a whole lot?\n",
    "* The fit gets worse. In this case the sum of squared residuals $\\approx$ 31.</td>\n",
    "</tr></table>"
   ]
  },
  {
   "cell_type": "markdown",
   "metadata": {
    "slideshow": {
     "slide_type": "slide"
    }
   },
   "source": [
    "\n",
    "<div>\n",
    "<center>\n",
    "<table><tr>\n",
    "<td><img src=\"img/quest/Qimage-14.jpg\" width=\"350\"/>\n",
    "    \n",
    "</td>\n",
    "<td>\n",
    "\n",
    "* The generic line equation is: $y = a*x + b$\n",
    "***\n",
    "* We want to find the optimal values for \"a\" and \"b\" so that we minimize the sum of squared residuals.\n",
    "***\n",
    "* In more general math terms ...\n",
    "***\n",
    "Sum of Squared Residulas $= ((a*x_1 + b) - y_1)^2 + ((a*x_2 + b) - y_2)^2 + \\dots$\n",
    "\n",
    "</tr></table>"
   ]
  },
  {
   "cell_type": "markdown",
   "metadata": {
    "slideshow": {
     "slide_type": "fragment"
    }
   },
   "source": [
    "Since we want the line that will give us the smallest sum of square, this method for finding the best values for \"a\" and \"b\" is called \"Least Squares\""
   ]
  },
  {
   "cell_type": "markdown",
   "metadata": {
    "slideshow": {
     "slide_type": "skip"
    }
   },
   "source": [
    "<div>\n",
    "<center>\n",
    "<img src=\"img/image-4.jpg\" width=\"800\"/>\n",
    "</div>"
   ]
  },
  {
   "cell_type": "markdown",
   "metadata": {
    "slideshow": {
     "slide_type": "skip"
    }
   },
   "source": [
    "<center>$\\hat y = w^T \\mathbf{x} + b = \\sum_{i=1}^{p} w_i x_i + b$"
   ]
  },
  {
   "cell_type": "markdown",
   "metadata": {
    "slideshow": {
     "slide_type": "skip"
    }
   },
   "source": [
    "# Ordinary Least Squares"
   ]
  },
  {
   "cell_type": "markdown",
   "metadata": {
    "slideshow": {
     "slide_type": "skip"
    }
   },
   "source": [
    "<center>$\\hat y = w^T \\mathbf{x} + b = \\sum_{i=1}^{p} w_i x_i + b$\n",
    "***\n",
    "<center>$\\min_{\\substack{w\\in I\\!R^{p}, b \\in I\\!R^{p}}} \\sum_{i=1}^{n} || w^T \\mathbf{x}_i + b - y_i ||^2$\n",
    "***\n",
    "Unique solution if $\\mathbf{X} = (\\mathbf{x_1}, \\dots , \\mathbf{x_n})^T$ has full column rank."
   ]
  },
  {
   "cell_type": "markdown",
   "metadata": {
    "slideshow": {
     "slide_type": "slide"
    }
   },
   "source": [
    "# Bias and Variance"
   ]
  },
  {
   "cell_type": "markdown",
   "metadata": {
    "slideshow": {
     "slide_type": "-"
    }
   },
   "source": [
    "<div>\n",
    "<center>\n",
    "<font size='8'><img src=\"img/quest/Qimage-15.jpg\" width=\"750\"/>\n"
   ]
  },
  {
   "cell_type": "markdown",
   "metadata": {
    "slideshow": {
     "slide_type": "-"
    }
   },
   "source": [
    "The first thing we do is split the data into two sets, one for training the machine learning algorithms and one for testing them."
   ]
  },
  {
   "cell_type": "markdown",
   "metadata": {
    "slideshow": {
     "slide_type": "slide"
    }
   },
   "source": [
    "<div>\n",
    "<center>\n",
    "<img src=\"img/quest/Qimage-16.jpg\" width=\"700\"/>\n"
   ]
  },
  {
   "cell_type": "markdown",
   "metadata": {
    "slideshow": {
     "slide_type": "-"
    }
   },
   "source": [
    "* The first machine learning algorithm that we will use is Linear Regression (Least Squares).\n",
    "* Linear regression fits a **Straight Line** to the <font color = 'blue'>training set.\n",
    "* <font color = 'black'>The **Straight Line** does not have the flexibility to accurately replicate the arc in the \"true\" relationship\n",
    "* The **Straight Line** will never capture the true relationship between weight and height, no matter how well we fit it to the <font color = 'blue'>"
   ]
  },
  {
   "cell_type": "markdown",
   "metadata": {
    "slideshow": {
     "slide_type": "fragment"
    }
   },
   "source": [
    "* The inability for a machine learning method (like linear regression) to capture the true relationship is called <font color = 'red'> **bias**."
   ]
  },
  {
   "cell_type": "markdown",
   "metadata": {
    "slideshow": {
     "slide_type": "slide"
    }
   },
   "source": [
    "<div>\n",
    "<center>\n",
    "<font size='8'><img src=\"img/quest/Qimage-17.jpg\" width=\"750\"/>\n"
   ]
  },
  {
   "cell_type": "markdown",
   "metadata": {
    "slideshow": {
     "slide_type": "-"
    }
   },
   "source": [
    "* Another machine learning method might fir a **Squiggly Line** to the <font color = 'blue'>training set.\n",
    "* <font color = 'black'> The **Squiggly Line** is super flexible and hugs the <font color = 'blue'>training set <font color = 'black'> along the arc of the true relationship. \n",
    "* The **Squiggly Line** has very little **bias**."
   ]
  },
  {
   "cell_type": "markdown",
   "metadata": {
    "slideshow": {
     "slide_type": "slide"
    }
   },
   "source": [
    "<div>\n",
    "<center>\n",
    "<font size='8'><img src=\"img/quest/Qimage-18.jpg\" width=\"900\"/>\n"
   ]
  },
  {
   "cell_type": "markdown",
   "metadata": {
    "slideshow": {
     "slide_type": "-"
    }
   },
   "source": [
    "* By calculating the sums of squares, we can see that the **Squiggly Line** fits the <font color = 'blue'>training set <font color = 'black'> much better than the **Straight Line**. "
   ]
  },
  {
   "cell_type": "markdown",
   "metadata": {
    "slideshow": {
     "slide_type": "slide"
    }
   },
   "source": [
    "We also have a <font color = 'green'>testing set."
   ]
  },
  {
   "cell_type": "markdown",
   "metadata": {
    "slideshow": {
     "slide_type": "-"
    }
   },
   "source": [
    "<div>\n",
    "<center>\n",
    "<font size='8'><img src=\"img/quest/Qimage-19.jpg\" width=\"600\"/>\n"
   ]
  },
  {
   "cell_type": "markdown",
   "metadata": {
    "slideshow": {
     "slide_type": "fragment"
    }
   },
   "source": [
    "Now let's calculate the Sums of Squares for the <font color = 'green'>testing set."
   ]
  },
  {
   "cell_type": "markdown",
   "metadata": {
    "slideshow": {
     "slide_type": "-"
    }
   },
   "source": [
    "<div>\n",
    "<center>\n",
    "<font size='8'><img src=\"img/quest/Qimage-20.jpg\" width=\"600\"/>\n"
   ]
  },
  {
   "cell_type": "markdown",
   "metadata": {
    "slideshow": {
     "slide_type": "fragment"
    }
   },
   "source": [
    "* By calculating the sums of squares, we can see that the **Straight Line** fits the <font color = 'green'>testing set <font color = 'black'> much better than the **Squiggly Line**."
   ]
  },
  {
   "cell_type": "markdown",
   "metadata": {
    "slideshow": {
     "slide_type": "slide"
    }
   },
   "source": [
    "* Even though **Squiggly Line** did a great job fitting the <font color = 'blue'>training set ...\n",
    "* <font color = 'black'>It did a terrible job fitting the <font color = 'green'>testing set"
   ]
  },
  {
   "cell_type": "markdown",
   "metadata": {
    "slideshow": {
     "slide_type": "-"
    }
   },
   "source": [
    "<div>\n",
    "<center>\n",
    "<font size='8'><img src=\"img/quest/Qimage-21.jpg\" width=\"900\"/>\n"
   ]
  },
  {
   "cell_type": "markdown",
   "metadata": {
    "slideshow": {
     "slide_type": "fragment"
    }
   },
   "source": [
    "In Machine Learning lingo, the difference in fits between data sets is called **Variance**"
   ]
  },
  {
   "cell_type": "markdown",
   "metadata": {
    "slideshow": {
     "slide_type": "slide"
    }
   },
   "source": [
    "# Conclusion"
   ]
  },
  {
   "cell_type": "markdown",
   "metadata": {
    "slideshow": {
     "slide_type": "-"
    }
   },
   "source": [
    "* The **Squiggly Line** has **low bias**, since it is flexible and can adapt to the curve in the relationship between weight and height...\n",
    "* But the **Squiggly Line** has **high variability**, because it results in vastly different Sums of Squares for different datasets.    \n",
    "    \n",
    "* In contrast, the **Straight Line** has relatively **high bias**, since it can not capture the curve in the relationship between weight and height...\n",
    "* But the **Straight Line** has relatively **low variance**, because the Sums of Squares are very similar for different datasets."
   ]
  },
  {
   "cell_type": "markdown",
   "metadata": {
    "slideshow": {
     "slide_type": "fragment"
    }
   },
   "source": [
    "Because the **Squiggly Line** fits the <font color = 'blue'>training set <font color = 'black'>really well, but not the <font color = 'green'>testing set, <font color = 'black'> we say that the **Squiggly Line** is **overfit**."
   ]
  },
  {
   "cell_type": "markdown",
   "metadata": {
    "slideshow": {
     "slide_type": "slide"
    }
   },
   "source": [
    "<div>\n",
    "<center>\n",
    "<font size='8'><img src=\"img/quest/Qimage-22.jpg\" width=\"500\"/>"
   ]
  },
  {
   "cell_type": "markdown",
   "metadata": {
    "slideshow": {
     "slide_type": "-"
    }
   },
   "source": [
    "* In machine learning, the ideal algorithm has **low bias** and can accurately model the true relationship...\n",
    "* And it has **low variability**, by producing consistent predictions across different datasets."
   ]
  },
  {
   "cell_type": "markdown",
   "metadata": {
    "slideshow": {
     "slide_type": "fragment"
    }
   },
   "source": [
    "This is done by finding the sweet spot between a simple model and a complex model."
   ]
  },
  {
   "cell_type": "markdown",
   "metadata": {
    "slideshow": {
     "slide_type": "-"
    }
   },
   "source": [
    "\n",
    "<div>\n",
    "<center>\n",
    "<table><tr>\n",
    "<td><font size='8'><img src=\"img/quest/Qimage-23.jpg\" width=\"500\"/></td>\n",
    "<td><font size='8'><img src=\"img/image-5.jpg\" width=\"400\"/></td>\n",
    "</tr></table>"
   ]
  },
  {
   "cell_type": "markdown",
   "metadata": {
    "slideshow": {
     "slide_type": "fragment"
    }
   },
   "source": [
    "Three commonly used methods for finding the sweet spot between simple and complicated models are: **regularization**, **boosting** and **bagging**."
   ]
  },
  {
   "cell_type": "markdown",
   "metadata": {
    "slideshow": {
     "slide_type": "slide"
    }
   },
   "source": [
    "# Ridge Regression"
   ]
  },
  {
   "cell_type": "markdown",
   "metadata": {
    "slideshow": {
     "slide_type": "-"
    }
   },
   "source": [
    "* Look at a simple example that shows the main idea behind Ridge Regression...\n",
    "* Go into details about how Ridge Regression works...\n",
    "* Lastly, show how Ridge Regression works..."
   ]
  },
  {
   "cell_type": "markdown",
   "metadata": {
    "slideshow": {
     "slide_type": "slide"
    }
   },
   "source": [
    "<div>\n",
    "<center>\n",
    "<font size='8'><img src=\"img/quest/Qimage-24.jpg\" width=\"350\"/>"
   ]
  },
  {
   "cell_type": "markdown",
   "metadata": {
    "slideshow": {
     "slide_type": "-"
    }
   },
   "source": [
    "But what if we only have two measurements?"
   ]
  },
  {
   "cell_type": "markdown",
   "metadata": {
    "slideshow": {
     "slide_type": "-"
    }
   },
   "source": [
    "<div>\n",
    "\n",
    "<table><tr>\n",
    "<td><img src=\"img/quest/Qimage-25.jpg\" width=\"400\"/></td>\n",
    "<td>\n",
    "\n",
    "* We fit a New Line with Least Square\n",
    "* Since the New Line overlaps the two data points, the minimum sum of squared residuals = 0.\n",
    "    \n",
    "</td>\n",
    "</tr></table>"
   ]
  },
  {
   "cell_type": "markdown",
   "metadata": {
    "slideshow": {
     "slide_type": "slide"
    }
   },
   "source": [
    "<div>\n",
    "\n",
    "<table><tr>\n",
    "<td><img src=\"img/quest/Qimage-27.jpg\" width=\"400\"/></td>\n",
    "<td>\n",
    "\n",
    "* The sum of the squared residuals for just the <font color='red'>Two Red Points, <font color='black'>the <font color='red'> Training Data, <font color='black'>, is small (in this case it is 0)...\n",
    "* But the sum of the squared residuals for the <font color='green'> Green Points, <font color='black'> the <font color='green'> Testing data, <font color='black'> is large...\n",
    "* That means that the New Line has **High Variance**\n",
    "    \n",
    "</td>\n",
    "</tr></table>"
   ]
  },
  {
   "cell_type": "markdown",
   "metadata": {
    "slideshow": {
     "slide_type": "fragment"
    }
   },
   "source": [
    "<div>\n",
    "<table><tr>\n",
    "<td><img src=\"img/quest/Qimage-28.jpg\" width=\"400\"/></td>\n",
    "<td>\n",
    "\n",
    "* The main idea behind <font color='blue'> Ridge Regression <font color='black'> is to find a <font color='blue'> New Line <font color='black'>that does not fit the <font color='red'> Training Data <font color='black'> as well...\n",
    "* In other words, we introduce a small amount of **Bias** into the <font color='blue'> New Line <font color='black'> is fit to the data...\n",
    "    \n",
    "</td>\n",
    "</tr></table>"
   ]
  },
  {
   "cell_type": "markdown",
   "metadata": {
    "slideshow": {
     "slide_type": "slide"
    }
   },
   "source": [
    "<div>\n",
    "<table><tr>\n",
    "<td><img src=\"img/quest/Qimage-29.jpg\" width=\"400\"/></td>\n",
    "<td>\n",
    "\n",
    "* But in return for that small amount of **Bias**, we get a significant drop in **Variance**.\n",
    "* In other words, by starting with a slightly worse fit, <font color='blue'> Ridge Regression <font color='black'> can provide better long term predictions.\n",
    "    \n",
    "</td>\n",
    "</tr></table>"
   ]
  },
  {
   "cell_type": "markdown",
   "metadata": {
    "slideshow": {
     "slide_type": "slide"
    }
   },
   "source": [
    "<div>\n",
    "<table><tr>\n",
    "<td><img src=\"img/quest/Qimage-30.jpg\" width=\"400\"/></td>\n",
    "<td>\n",
    "\n",
    "* <font color='blue'> Ridge Regression <font color='black'> determines values for the parameters in the equation below:<br>\n",
    "    **Size** = y-axis intercept + slope * **Weight**<br>\n",
    "    ... it minimizes ...<br>\n",
    "    **the sum of the squared residuals** **+** <font color='red'>$\\mathbf{\\alpha}$ * **the slope$^2$**<b>\n",
    "    \n",
    "    \n",
    "</td>\n",
    "</tr></table>"
   ]
  },
  {
   "cell_type": "markdown",
   "metadata": {
    "slideshow": {
     "slide_type": "fragment"
    }
   },
   "source": [
    "* The <font color='red'> red part <font color='black'> of the equation adds a penalty to the traditional **Least Squares** method...\n",
    "* And the $\\alpha$ (alpha) determines how severe that penalty is."
   ]
  },
  {
   "cell_type": "markdown",
   "metadata": {
    "slideshow": {
     "slide_type": "slide"
    }
   },
   "source": [
    "## RUL dataset from Kaggle\n",
    "\n",
    "Remaining useful life (RUL) is the amount of time that a machine/equipment can stay in operation before it is needed to perform any maintenenace/replacement. \n",
    "\n",
    "https://www.kaggle.com/datasets/ignaciovinuales/battery-remaining-useful-life-rul\n",
    "\n",
    "<div>\n",
    "<center>\n",
    "<img src=\"img/image-15.JPG\" width=\"1000\"/>\n",
    "</div>\n",
    "    \n",
    "    https://www.stratada.com/remaining-useful-life-rul-prediction/"
   ]
  },
  {
   "cell_type": "code",
   "execution_count": 13,
   "metadata": {
    "slideshow": {
     "slide_type": "slide"
    }
   },
   "outputs": [
    {
     "name": "stdout",
     "output_type": "stream",
     "text": [
      "<class 'pandas.core.frame.DataFrame'>\n",
      "RangeIndex: 15064 entries, 0 to 15063\n",
      "Data columns (total 9 columns):\n",
      " #   Column                     Non-Null Count  Dtype  \n",
      "---  ------                     --------------  -----  \n",
      " 0   Cycle_Index                15064 non-null  float64\n",
      " 1   Discharge Time (s)         15064 non-null  float64\n",
      " 2   Decrement 3.6-3.4V (s)     15064 non-null  float64\n",
      " 3   Max. Voltage Dischar. (V)  15064 non-null  float64\n",
      " 4   Min. Voltage Charg. (V)    15064 non-null  float64\n",
      " 5   Time at 4.15V (s)          15064 non-null  float64\n",
      " 6   Time constant current (s)  15064 non-null  float64\n",
      " 7   Charging time (s)          15064 non-null  float64\n",
      " 8   RUL                        15064 non-null  int64  \n",
      "dtypes: float64(8), int64(1)\n",
      "memory usage: 1.0 MB\n"
     ]
    }
   ],
   "source": [
    "import numpy as np # linear algebra\n",
    "import pandas as pd # data processing, CSV file I/O (e.g. pd.read_csv)\n",
    "import matplotlib.pyplot as plt\n",
    "import seaborn as sns\n",
    "%matplotlib inline\n",
    "\n",
    "df=pd.read_csv('Battery_RUL.csv')\n",
    "df.info()"
   ]
  },
  {
   "cell_type": "code",
   "execution_count": 86,
   "metadata": {
    "scrolled": false,
    "slideshow": {
     "slide_type": "slide"
    }
   },
   "outputs": [
    {
     "data": {
      "text/plain": [
       "<AxesSubplot:>"
      ]
     },
     "execution_count": 86,
     "metadata": {},
     "output_type": "execute_result"
    },
    {
     "data": {
      "image/png": "[encoded data removed]",
      "text/plain": [
       "<Figure size 1080x576 with 2 Axes>"
      ]
     },
     "metadata": {
      "needs_background": "light"
     },
     "output_type": "display_data"
    }
   ],
   "source": [
    "plt.figure(figsize = (15,8))\n",
    "sns.heatmap(df.corr(),annot=True, cbar=True, cmap='coolwarm', fmt='.1f')"
   ]
  },
  {
   "cell_type": "code",
   "execution_count": 24,
   "metadata": {
    "slideshow": {
     "slide_type": "fragment"
    }
   },
   "outputs": [],
   "source": [
    "df1 = df.drop(['Cycle_Index','Discharge Time (s)', 'Decrement 3.6-3.4V (s)', \n",
    "             'Time constant current (s)','Charging time (s)', 'RUL'], axis=1)"
   ]
  },
  {
   "cell_type": "markdown",
   "metadata": {
    "slideshow": {
     "slide_type": "slide"
    }
   },
   "source": [
    "Apply a Linear Regression on the RUL Dataset. Evaluate your model performance using the sklearn `cross_val_score` function (10-fold cross validation) on both train and test sets."
   ]
  },
  {
   "cell_type": "code",
   "execution_count": 2,
   "metadata": {
    "slideshow": {
     "slide_type": "-"
    }
   },
   "outputs": [],
   "source": [
    "from sklearn.linear_model import LinearRegression\n",
    "from sklearn.model_selection import train_test_split\n",
    "from sklearn.model_selection import cross_val_score\n",
    "from sklearn.preprocessing import StandardScaler\n",
    "\n",
    "X = df1.values\n",
    "y = df[\"RUL\"].values\n",
    "\n",
    "x_train,x_test,y_train,y_test = train_test_split(X,y,train_size=0.8,random_state=815)\n",
    "scaler = StandardScaler()\n",
    "x_train_scaled = scaler.fit_transform(x_train)\n",
    "x_test_scaled = scaler.transform(x_test)\n",
    "\n",
    "### YOUR CODE HERE\n",
    "\n"
   ]
  },
  {
   "cell_type": "markdown",
   "metadata": {
    "slideshow": {
     "slide_type": "slide"
    }
   },
   "source": [
    "# Ridge() Parameter Optimization"
   ]
  },
  {
   "cell_type": "code",
   "execution_count": 96,
   "metadata": {
    "scrolled": true,
    "slideshow": {
     "slide_type": "-"
    }
   },
   "outputs": [
    {
     "data": {
      "text/plain": [
       "{'alpha': array([   0.001,    0.003,    0.01 ,    0.032,    0.1  ,    0.316,\n",
       "           1.   ,    3.162,   10.   ,   31.623,  100.   ,  316.228,\n",
       "        1000.   ])}"
      ]
     },
     "execution_count": 96,
     "metadata": {},
     "output_type": "execute_result"
    }
   ],
   "source": [
    "import numpy as np\n",
    "from sklearn.model_selection import GridSearchCV\n",
    "from sklearn.linear_model import Ridge, Lasso\n",
    "\n",
    "param_grid = {'alpha': np.logspace(-3, 3, 13)}\n",
    "np.set_printoptions(suppress=True, precision=3)\n",
    "param_grid\n"
   ]
  },
  {
   "cell_type": "code",
   "execution_count": 97,
   "metadata": {
    "slideshow": {
     "slide_type": "fragment"
    }
   },
   "outputs": [
    {
     "data": {
      "text/plain": [
       "{'alpha': 1.0}"
      ]
     },
     "execution_count": 97,
     "metadata": {},
     "output_type": "execute_result"
    }
   ],
   "source": [
    "grid = GridSearchCV(Lasso(), param_grid, cv=10, return_train_score=True)\n",
    "grid.fit(x_train_scaled, y_train)\n",
    "grid.best_score_\n",
    "grid.best_params_\n"
   ]
  },
  {
   "cell_type": "code",
   "execution_count": 98,
   "metadata": {
    "slideshow": {
     "slide_type": "slide"
    }
   },
   "outputs": [
    {
     "data": {
      "text/plain": [
       "<AxesSubplot:xlabel='param_alpha'>"
      ]
     },
     "execution_count": 98,
     "metadata": {},
     "output_type": "execute_result"
    },
    {
     "data": {
      "image/png": "[encoded data removed]",
      "text/plain": [
       "<Figure size 432x288 with 1 Axes>"
      ]
     },
     "metadata": {
      "needs_background": "light"
     },
     "output_type": "display_data"
    }
   ],
   "source": [
    "res = pd.DataFrame(grid.cv_results_)\n",
    "ax = res.plot(x='param_alpha', y='mean_train_score', logx=True)\n",
    "res.plot(x='param_alpha', y='mean_test_score', ax=ax)"
   ]
  },
  {
   "cell_type": "markdown",
   "metadata": {
    "slideshow": {
     "slide_type": "slide"
    }
   },
   "source": [
    "# Lasso Regression"
   ]
  },
  {
   "cell_type": "markdown",
   "metadata": {
    "slideshow": {
     "slide_type": "-"
    }
   },
   "source": [
    "Lasso and Ridge Regression are **very similar** but there is a **very big difference**."
   ]
  },
  {
   "cell_type": "markdown",
   "metadata": {
    "slideshow": {
     "slide_type": "fragment"
    }
   },
   "source": [
    "<div>\n",
    "<table><tr>\n",
    "<td><img src=\"img/quest/Qimage-30.jpg\" width=\"400\"/></td>\n",
    "<td>\n",
    "\n",
    "* If, instead of squaring the slope...<br>\n",
    "    **Size** = y-axis intercept + slope * **Weight**<br>\n",
    "    ... it minimizes ...<br>\n",
    "    **the sum of the squared residuals** **+** $\\mathbf{\\alpha}$ * <font color='green'>|the slope| <strike> <font color='red'>**the slope$^2$**<strike> <br>\n",
    "    \n",
    "    \n",
    "</td>\n",
    "</tr></table>"
   ]
  },
  {
   "cell_type": "markdown",
   "metadata": {
    "slideshow": {
     "slide_type": "-"
    }
   },
   "source": [
    "Like **Ridge Regression, Lasso Regression** results in a line with a little bit of **Bias**."
   ]
  },
  {
   "cell_type": "markdown",
   "metadata": {
    "slideshow": {
     "slide_type": "-"
    }
   },
   "source": [
    "<center>$\\min_{\\substack{w\\in I\\!R^{p}, b \\in I\\!R}} \\sum_{i=1}^{n} ||w^T \\mathbf{x}_i + b - y_i||^2 + \\alpha ||w||_1$"
   ]
  },
  {
   "cell_type": "markdown",
   "metadata": {
    "slideshow": {
     "slide_type": "slide"
    }
   },
   "source": [
    "# Elastic Net"
   ]
  },
  {
   "cell_type": "markdown",
   "metadata": {
    "slideshow": {
     "slide_type": "-"
    }
   },
   "source": [
    "* Combines benefits of Ridge and Lasso\n",
    "* two parameters to tune."
   ]
  },
  {
   "cell_type": "markdown",
   "metadata": {
    "slideshow": {
     "slide_type": "-"
    }
   },
   "source": [
    "<center>$\\min_{\\substack{w\\in I\\!R^{p}, b \\in I\\!R}} \\sum_{i=1}^{n} ||w^T \\mathbf{x}_i + b - y_i||^2 + \\alpha_1 ||w||_1 + \\alpha_2 ||w||_2^2$"
   ]
  },
  {
   "cell_type": "markdown",
   "metadata": {
    "slideshow": {
     "slide_type": "slide"
    }
   },
   "source": [
    "# Parametrization in scikit-learn"
   ]
  },
  {
   "cell_type": "markdown",
   "metadata": {
    "slideshow": {
     "slide_type": "-"
    }
   },
   "source": [
    "<center>$\\min_{\\substack{w\\in I\\!R^{p}, b \\in I\\!R}} \\sum_{i=1}^{n} ||w^T \\mathbf{x}_i + b - y_i||^2 + \\alpha \\zeta ||w||_1 + \\alpha (1 - \\zeta) ||w||_2^2$"
   ]
  },
  {
   "cell_type": "markdown",
   "metadata": {
    "slideshow": {
     "slide_type": "-"
    }
   },
   "source": [
    "Where $\\zeta$ is the relative amount of $l_1$ penalty ($l_1$_ratio in the code)."
   ]
  },
  {
   "cell_type": "markdown",
   "metadata": {
    "slideshow": {
     "slide_type": "slide"
    }
   },
   "source": [
    "# Grid-searching ElasticNet"
   ]
  },
  {
   "cell_type": "markdown",
   "metadata": {
    "slideshow": {
     "slide_type": "-"
    }
   },
   "source": [
    "Please find the $\\alpha$ and $\\zeta$ parameters of ElasticNet using GridSearchCV method in sklearn. You will print out the best found parameters by GridSeacrhCV."
   ]
  },
  {
   "cell_type": "code",
   "execution_count": 3,
   "metadata": {
    "scrolled": true,
    "slideshow": {
     "slide_type": "-"
    }
   },
   "outputs": [],
   "source": [
    "from sklearn.datasets import load_diabetes\n",
    "from sklearn.linear_model import ElasticNet\n",
    "from sklearn.model_selection import train_test_split\n",
    "import numpy as np\n",
    "\n",
    "diabetes = load_diabetes()\n",
    "X, y = diabetes.data, diabetes.target\n",
    "X_train, X_test, y_train, y_test = train_test_split(X, y, random_state=42)\n",
    "\n",
    "### YOUR CODE HERE\n",
    "param_grid = {'alpha': np.logspace(-3, 3, 13), 'l1_ratio': np.logspace(-5,0,13)}\n",
    "\n",
    "\n",
    "\n",
    "\n",
    "\n",
    "\n",
    "predictions = grid.predict(X_test)"
   ]
  },
  {
   "cell_type": "markdown",
   "metadata": {
    "slideshow": {
     "slide_type": "slide"
    }
   },
   "source": [
    "# Analyzing grid-search results"
   ]
  },
  {
   "cell_type": "code",
   "execution_count": 100,
   "metadata": {
    "slideshow": {
     "slide_type": "-"
    }
   },
   "outputs": [
    {
     "data": {
      "text/html": [
       "<div>\n",
       "<style scoped>\n",
       "    .dataframe tbody tr th:only-of-type {\n",
       "        vertical-align: middle;\n",
       "    }\n",
       "\n",
       "    .dataframe tbody tr th {\n",
       "        vertical-align: top;\n",
       "    }\n",
       "\n",
       "    .dataframe thead th {\n",
       "        text-align: right;\n",
       "    }\n",
       "</style>\n",
       "<table border=\"1\" class=\"dataframe\">\n",
       "  <thead>\n",
       "    <tr style=\"text-align: right;\">\n",
       "      <th>param_l1_ratio</th>\n",
       "      <th>1.000e-05</th>\n",
       "      <th>2.610e-05</th>\n",
       "      <th>6.813e-05</th>\n",
       "      <th>1.778e-04</th>\n",
       "      <th>4.642e-04</th>\n",
       "      <th>1.212e-03</th>\n",
       "      <th>3.162e-03</th>\n",
       "      <th>8.254e-03</th>\n",
       "      <th>2.154e-02</th>\n",
       "      <th>5.623e-02</th>\n",
       "      <th>1.468e-01</th>\n",
       "      <th>3.831e-01</th>\n",
       "      <th>1.000e+00</th>\n",
       "    </tr>\n",
       "    <tr>\n",
       "      <th>param_alpha</th>\n",
       "      <th></th>\n",
       "      <th></th>\n",
       "      <th></th>\n",
       "      <th></th>\n",
       "      <th></th>\n",
       "      <th></th>\n",
       "      <th></th>\n",
       "      <th></th>\n",
       "      <th></th>\n",
       "      <th></th>\n",
       "      <th></th>\n",
       "      <th></th>\n",
       "      <th></th>\n",
       "    </tr>\n",
       "  </thead>\n",
       "  <tbody>\n",
       "    <tr>\n",
       "      <th>0.001</th>\n",
       "      <td>4.193e-01</td>\n",
       "      <td>4.193e-01</td>\n",
       "      <td>4.193e-01</td>\n",
       "      <td>4.193e-01</td>\n",
       "      <td>4.193e-01</td>\n",
       "      <td>4.193e-01</td>\n",
       "      <td>4.193e-01</td>\n",
       "      <td>4.195e-01</td>\n",
       "      <td>4.198e-01</td>\n",
       "      <td>0.421</td>\n",
       "      <td>0.422</td>\n",
       "      <td>0.426</td>\n",
       "      <td>0.425</td>\n",
       "    </tr>\n",
       "    <tr>\n",
       "      <th>0.003</th>\n",
       "      <td>3.622e-01</td>\n",
       "      <td>3.622e-01</td>\n",
       "      <td>3.622e-01</td>\n",
       "      <td>3.622e-01</td>\n",
       "      <td>3.622e-01</td>\n",
       "      <td>3.623e-01</td>\n",
       "      <td>3.625e-01</td>\n",
       "      <td>3.629e-01</td>\n",
       "      <td>3.639e-01</td>\n",
       "      <td>0.367</td>\n",
       "      <td>0.374</td>\n",
       "      <td>0.394</td>\n",
       "      <td>0.425</td>\n",
       "    </tr>\n",
       "    <tr>\n",
       "      <th>0.010</th>\n",
       "      <td>2.358e-01</td>\n",
       "      <td>2.358e-01</td>\n",
       "      <td>2.358e-01</td>\n",
       "      <td>2.358e-01</td>\n",
       "      <td>2.359e-01</td>\n",
       "      <td>2.359e-01</td>\n",
       "      <td>2.362e-01</td>\n",
       "      <td>2.369e-01</td>\n",
       "      <td>2.386e-01</td>\n",
       "      <td>0.243</td>\n",
       "      <td>0.256</td>\n",
       "      <td>0.295</td>\n",
       "      <td>0.426</td>\n",
       "    </tr>\n",
       "    <tr>\n",
       "      <th>0.032</th>\n",
       "      <td>9.131e-02</td>\n",
       "      <td>9.131e-02</td>\n",
       "      <td>9.131e-02</td>\n",
       "      <td>9.132e-02</td>\n",
       "      <td>9.135e-02</td>\n",
       "      <td>9.143e-02</td>\n",
       "      <td>9.164e-02</td>\n",
       "      <td>9.218e-02</td>\n",
       "      <td>9.361e-02</td>\n",
       "      <td>0.097</td>\n",
       "      <td>0.109</td>\n",
       "      <td>0.147</td>\n",
       "      <td>0.425</td>\n",
       "    </tr>\n",
       "    <tr>\n",
       "      <th>0.100</th>\n",
       "      <td>-9.063e-05</td>\n",
       "      <td>-8.985e-05</td>\n",
       "      <td>-8.780e-05</td>\n",
       "      <td>-8.245e-05</td>\n",
       "      <td>-6.848e-05</td>\n",
       "      <td>-3.200e-05</td>\n",
       "      <td>6.346e-05</td>\n",
       "      <td>3.142e-04</td>\n",
       "      <td>9.797e-04</td>\n",
       "      <td>0.003</td>\n",
       "      <td>0.008</td>\n",
       "      <td>0.028</td>\n",
       "      <td>0.427</td>\n",
       "    </tr>\n",
       "    <tr>\n",
       "      <th>0.316</th>\n",
       "      <td>-3.869e-02</td>\n",
       "      <td>-3.869e-02</td>\n",
       "      <td>-3.869e-02</td>\n",
       "      <td>-3.869e-02</td>\n",
       "      <td>-3.869e-02</td>\n",
       "      <td>-3.867e-02</td>\n",
       "      <td>-3.864e-02</td>\n",
       "      <td>-3.857e-02</td>\n",
       "      <td>-3.836e-02</td>\n",
       "      <td>-0.038</td>\n",
       "      <td>-0.036</td>\n",
       "      <td>-0.029</td>\n",
       "      <td>0.407</td>\n",
       "    </tr>\n",
       "    <tr>\n",
       "      <th>1.000</th>\n",
       "      <td>-5.222e-02</td>\n",
       "      <td>-5.222e-02</td>\n",
       "      <td>-5.222e-02</td>\n",
       "      <td>-5.221e-02</td>\n",
       "      <td>-5.221e-02</td>\n",
       "      <td>-5.221e-02</td>\n",
       "      <td>-5.221e-02</td>\n",
       "      <td>-5.220e-02</td>\n",
       "      <td>-5.217e-02</td>\n",
       "      <td>-0.052</td>\n",
       "      <td>-0.052</td>\n",
       "      <td>-0.051</td>\n",
       "      <td>0.286</td>\n",
       "    </tr>\n",
       "    <tr>\n",
       "      <th>3.162</th>\n",
       "      <td>-5.664e-02</td>\n",
       "      <td>-5.664e-02</td>\n",
       "      <td>-5.664e-02</td>\n",
       "      <td>-5.664e-02</td>\n",
       "      <td>-5.664e-02</td>\n",
       "      <td>-5.664e-02</td>\n",
       "      <td>-5.664e-02</td>\n",
       "      <td>-5.666e-02</td>\n",
       "      <td>-5.668e-02</td>\n",
       "      <td>-0.057</td>\n",
       "      <td>-0.057</td>\n",
       "      <td>-0.058</td>\n",
       "      <td>-0.059</td>\n",
       "    </tr>\n",
       "    <tr>\n",
       "      <th>10.000</th>\n",
       "      <td>-5.805e-02</td>\n",
       "      <td>-5.805e-02</td>\n",
       "      <td>-5.805e-02</td>\n",
       "      <td>-5.805e-02</td>\n",
       "      <td>-5.805e-02</td>\n",
       "      <td>-5.806e-02</td>\n",
       "      <td>-5.806e-02</td>\n",
       "      <td>-5.808e-02</td>\n",
       "      <td>-5.813e-02</td>\n",
       "      <td>-0.058</td>\n",
       "      <td>-0.059</td>\n",
       "      <td>-0.059</td>\n",
       "      <td>-0.059</td>\n",
       "    </tr>\n",
       "    <tr>\n",
       "      <th>31.623</th>\n",
       "      <td>-5.850e-02</td>\n",
       "      <td>-5.850e-02</td>\n",
       "      <td>-5.850e-02</td>\n",
       "      <td>-5.850e-02</td>\n",
       "      <td>-5.850e-02</td>\n",
       "      <td>-5.850e-02</td>\n",
       "      <td>-5.851e-02</td>\n",
       "      <td>-5.853e-02</td>\n",
       "      <td>-5.859e-02</td>\n",
       "      <td>-0.059</td>\n",
       "      <td>-0.059</td>\n",
       "      <td>-0.059</td>\n",
       "      <td>-0.059</td>\n",
       "    </tr>\n",
       "    <tr>\n",
       "      <th>100.000</th>\n",
       "      <td>-5.864e-02</td>\n",
       "      <td>-5.864e-02</td>\n",
       "      <td>-5.864e-02</td>\n",
       "      <td>-5.864e-02</td>\n",
       "      <td>-5.864e-02</td>\n",
       "      <td>-5.865e-02</td>\n",
       "      <td>-5.865e-02</td>\n",
       "      <td>-5.867e-02</td>\n",
       "      <td>-5.871e-02</td>\n",
       "      <td>-0.059</td>\n",
       "      <td>-0.059</td>\n",
       "      <td>-0.059</td>\n",
       "      <td>-0.059</td>\n",
       "    </tr>\n",
       "    <tr>\n",
       "      <th>316.228</th>\n",
       "      <td>-5.869e-02</td>\n",
       "      <td>-5.869e-02</td>\n",
       "      <td>-5.869e-02</td>\n",
       "      <td>-5.869e-02</td>\n",
       "      <td>-5.869e-02</td>\n",
       "      <td>-5.869e-02</td>\n",
       "      <td>-5.870e-02</td>\n",
       "      <td>-5.871e-02</td>\n",
       "      <td>-5.871e-02</td>\n",
       "      <td>-0.059</td>\n",
       "      <td>-0.059</td>\n",
       "      <td>-0.059</td>\n",
       "      <td>-0.059</td>\n",
       "    </tr>\n",
       "    <tr>\n",
       "      <th>1000.000</th>\n",
       "      <td>-5.870e-02</td>\n",
       "      <td>-5.870e-02</td>\n",
       "      <td>-5.870e-02</td>\n",
       "      <td>-5.870e-02</td>\n",
       "      <td>-5.870e-02</td>\n",
       "      <td>-5.871e-02</td>\n",
       "      <td>-5.871e-02</td>\n",
       "      <td>-5.871e-02</td>\n",
       "      <td>-5.871e-02</td>\n",
       "      <td>-0.059</td>\n",
       "      <td>-0.059</td>\n",
       "      <td>-0.059</td>\n",
       "      <td>-0.059</td>\n",
       "    </tr>\n",
       "  </tbody>\n",
       "</table>\n",
       "</div>"
      ],
      "text/plain": [
       "param_l1_ratio  1.000e-05  2.610e-05  6.813e-05  1.778e-04  4.642e-04  \\\n",
       "param_alpha                                                             \n",
       "0.001           4.193e-01  4.193e-01  4.193e-01  4.193e-01  4.193e-01   \n",
       "0.003           3.622e-01  3.622e-01  3.622e-01  3.622e-01  3.622e-01   \n",
       "0.010           2.358e-01  2.358e-01  2.358e-01  2.358e-01  2.359e-01   \n",
       "0.032           9.131e-02  9.131e-02  9.131e-02  9.132e-02  9.135e-02   \n",
       "0.100          -9.063e-05 -8.985e-05 -8.780e-05 -8.245e-05 -6.848e-05   \n",
       "0.316          -3.869e-02 -3.869e-02 -3.869e-02 -3.869e-02 -3.869e-02   \n",
       "1.000          -5.222e-02 -5.222e-02 -5.222e-02 -5.221e-02 -5.221e-02   \n",
       "3.162          -5.664e-02 -5.664e-02 -5.664e-02 -5.664e-02 -5.664e-02   \n",
       "10.000         -5.805e-02 -5.805e-02 -5.805e-02 -5.805e-02 -5.805e-02   \n",
       "31.623         -5.850e-02 -5.850e-02 -5.850e-02 -5.850e-02 -5.850e-02   \n",
       "100.000        -5.864e-02 -5.864e-02 -5.864e-02 -5.864e-02 -5.864e-02   \n",
       "316.228        -5.869e-02 -5.869e-02 -5.869e-02 -5.869e-02 -5.869e-02   \n",
       "1000.000       -5.870e-02 -5.870e-02 -5.870e-02 -5.870e-02 -5.870e-02   \n",
       "\n",
       "param_l1_ratio  1.212e-03  3.162e-03  8.254e-03  2.154e-02  5.623e-02  \\\n",
       "param_alpha                                                             \n",
       "0.001           4.193e-01  4.193e-01  4.195e-01  4.198e-01      0.421   \n",
       "0.003           3.623e-01  3.625e-01  3.629e-01  3.639e-01      0.367   \n",
       "0.010           2.359e-01  2.362e-01  2.369e-01  2.386e-01      0.243   \n",
       "0.032           9.143e-02  9.164e-02  9.218e-02  9.361e-02      0.097   \n",
       "0.100          -3.200e-05  6.346e-05  3.142e-04  9.797e-04      0.003   \n",
       "0.316          -3.867e-02 -3.864e-02 -3.857e-02 -3.836e-02     -0.038   \n",
       "1.000          -5.221e-02 -5.221e-02 -5.220e-02 -5.217e-02     -0.052   \n",
       "3.162          -5.664e-02 -5.664e-02 -5.666e-02 -5.668e-02     -0.057   \n",
       "10.000         -5.806e-02 -5.806e-02 -5.808e-02 -5.813e-02     -0.058   \n",
       "31.623         -5.850e-02 -5.851e-02 -5.853e-02 -5.859e-02     -0.059   \n",
       "100.000        -5.865e-02 -5.865e-02 -5.867e-02 -5.871e-02     -0.059   \n",
       "316.228        -5.869e-02 -5.870e-02 -5.871e-02 -5.871e-02     -0.059   \n",
       "1000.000       -5.871e-02 -5.871e-02 -5.871e-02 -5.871e-02     -0.059   \n",
       "\n",
       "param_l1_ratio  1.468e-01  3.831e-01  1.000e+00  \n",
       "param_alpha                                      \n",
       "0.001               0.422      0.426      0.425  \n",
       "0.003               0.374      0.394      0.425  \n",
       "0.010               0.256      0.295      0.426  \n",
       "0.032               0.109      0.147      0.425  \n",
       "0.100               0.008      0.028      0.427  \n",
       "0.316              -0.036     -0.029      0.407  \n",
       "1.000              -0.052     -0.051      0.286  \n",
       "3.162              -0.057     -0.058     -0.059  \n",
       "10.000             -0.059     -0.059     -0.059  \n",
       "31.623             -0.059     -0.059     -0.059  \n",
       "100.000            -0.059     -0.059     -0.059  \n",
       "316.228            -0.059     -0.059     -0.059  \n",
       "1000.000           -0.059     -0.059     -0.059  "
      ]
     },
     "execution_count": 100,
     "metadata": {},
     "output_type": "execute_result"
    }
   ],
   "source": [
    "import pandas as pd\n",
    "res = pd.pivot_table(pd.DataFrame(grid.cv_results_), values='mean_test_score', index='param_alpha', columns='param_l1_ratio')\n",
    "res"
   ]
  },
  {
   "cell_type": "code",
   "execution_count": 104,
   "metadata": {
    "slideshow": {
     "slide_type": "slide"
    }
   },
   "outputs": [
    {
     "data": {
      "text/plain": [
       "<AxesSubplot:xlabel='param_l1_ratio'>"
      ]
     },
     "execution_count": 104,
     "metadata": {},
     "output_type": "execute_result"
    },
    {
     "data": {
      "image/png": "[encoded data removed]",
      "text/plain": [
       "<Figure size 1080x576 with 2 Axes>"
      ]
     },
     "metadata": {
      "needs_background": "light"
     },
     "output_type": "display_data"
    }
   ],
   "source": [
    "import seaborn as sns\n",
    "import matplotlib.pyplot as plt\n",
    "pd.set_option(\"display.precision\",3)\n",
    "res = res.set_index(res.index.values.round(4))\n",
    "plt.figure(figsize=(15,8))\n",
    "sns.heatmap(res, annot=True, fmt=\".3g\")\n"
   ]
  },
  {
   "cell_type": "markdown",
   "metadata": {
    "slideshow": {
     "slide_type": "slide"
    }
   },
   "source": [
    "<font size=\"25\"><center>Thank you!"
   ]
  }
 ],
 "metadata": {
  "celltoolbar": "Slideshow",
  "kernelspec": {
   "display_name": "Python 3 (ipykernel)",
   "language": "python",
   "name": "python3"
  },
  "language_info": {
   "codemirror_mode": {
    "name": "ipython",
    "version": 3
   },
   "file_extension": ".py",
   "mimetype": "text/x-python",
   "name": "python",
   "nbconvert_exporter": "python",
   "pygments_lexer": "ipython3",
   "version": "3.9.7"
  },
  "rise": {
   "enable_chalkboard": true
  }
 },
 "nbformat": 4,
 "nbformat_minor": 4
}
