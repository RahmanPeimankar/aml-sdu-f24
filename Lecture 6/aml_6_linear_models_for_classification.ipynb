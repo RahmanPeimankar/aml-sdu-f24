{
 "cells": [
  {
   "cell_type": "markdown",
   "metadata": {
    "slideshow": {
     "slide_type": "slide"
    }
   },
   "source": [
    "### <center><img src=\"img/aml-logo.png\" width=\"600\"/>\n",
    "\n",
    "***\n",
    "\n",
    "<center>Lecture 6</center>\n",
    "\n",
    "***\n",
    "\n",
    "<center>Linear models for Classification</center>\n",
    "\n",
    "***\n",
    "\n",
    "<center>11 March 2024<center>\n",
    "<center>Rahman Peimankar<center>"
   ]
  },
  {
   "cell_type": "markdown",
   "metadata": {
    "slideshow": {
     "slide_type": "slide"
    }
   },
   "source": [
    "# Agenda"
   ]
  },
  {
   "cell_type": "markdown",
   "metadata": {},
   "source": [
    "* Linear models for binary classfication\n",
    "* Logistic Regression\n",
    "* Support Vector Machines\n",
    "* Multiclass Classification\n",
    "* Kernel SVMs"
   ]
  },
  {
   "cell_type": "markdown",
   "metadata": {
    "slideshow": {
     "slide_type": "slide"
    }
   },
   "source": [
    "# Recap of Last Week"
   ]
  },
  {
   "cell_type": "markdown",
   "metadata": {
    "slideshow": {
     "slide_type": "-"
    }
   },
   "source": [
    "## Imputation Methods"
   ]
  },
  {
   "cell_type": "markdown",
   "metadata": {
    "slideshow": {
     "slide_type": "-"
    }
   },
   "source": [
    "* Mean / Median\n",
    "* kNN\n",
    "* Regression models (later)"
   ]
  },
  {
   "cell_type": "markdown",
   "metadata": {
    "slideshow": {
     "slide_type": "slide"
    }
   },
   "source": [
    "## Linear Models for Regression (Least Squares)"
   ]
  },
  {
   "cell_type": "markdown",
   "metadata": {
    "slideshow": {
     "slide_type": "-"
    }
   },
   "source": [
    "<div>\n",
    "<center>\n",
    "<img src=\"img/quest/Qimage-12-lecture5.jpg\" width=\"350\"/>\n",
    "</div>"
   ]
  },
  {
   "cell_type": "markdown",
   "metadata": {
    "slideshow": {
     "slide_type": "slide"
    }
   },
   "source": [
    "## Bias and Variance"
   ]
  },
  {
   "cell_type": "markdown",
   "metadata": {
    "slideshow": {
     "slide_type": "-"
    }
   },
   "source": [
    "<div>\n",
    "<center>\n",
    "<font size='8'><img src=\"img/quest/Qimage-18-lecture5.jpg\" width=\"900\"/>"
   ]
  },
  {
   "cell_type": "markdown",
   "metadata": {
    "slideshow": {
     "slide_type": "fragment"
    }
   },
   "source": [
    "<div>\n",
    "<center>\n",
    "<font size='8'><img src=\"img/quest/Qimage-19-lecture5.jpg\" width=\"700\"/>"
   ]
  },
  {
   "cell_type": "markdown",
   "metadata": {
    "slideshow": {
     "slide_type": "slide"
    }
   },
   "source": [
    "## Ridge Regression"
   ]
  },
  {
   "cell_type": "markdown",
   "metadata": {
    "slideshow": {
     "slide_type": "-"
    }
   },
   "source": [
    "<div>\n",
    "\n",
    "<table><tr>\n",
    "<td><img src=\"img/quest/Qimage-27-lecture5.jpg\" width=\"400\"/></td>\n",
    "<td>\n",
    "\n",
    "* The sum of the squared residuals for just the <font color='red'>Two Red Points, <font color='black'>the <font color='red'> Training Data, <font color='black'>, is small (in this case it is 0)...\n",
    "* But the sum of the squared residuals for the <font color='green'> Green Points, <font color='black'> the <font color='green'> Testing data, <font color='black'> is large...\n",
    "* That means that the New Line has **High Variance**\n",
    "    \n",
    "</td>\n",
    "</tr></table>"
   ]
  },
  {
   "cell_type": "markdown",
   "metadata": {
    "slideshow": {
     "slide_type": "fragment"
    }
   },
   "source": [
    "<div>\n",
    "<table><tr>\n",
    "<td><img src=\"img/quest/Qimage-29-lecture5.jpg\" width=\"400\"/></td>\n",
    "<td>\n",
    "\n",
    "* But in return for that small amount of **Bias**, we get a significant drop in **Variance**.\n",
    "* In other words, by starting with a slightly worse fit, <font color='blue'> Ridge Regression <font color='black'> can provide better long term predictions.\n",
    "    \n",
    "</td>\n",
    "</tr></table>"
   ]
  },
  {
   "cell_type": "markdown",
   "metadata": {
    "slideshow": {
     "slide_type": "slide"
    }
   },
   "source": [
    "## Lasso Regression"
   ]
  },
  {
   "cell_type": "markdown",
   "metadata": {
    "slideshow": {
     "slide_type": "-"
    }
   },
   "source": [
    "<div>\n",
    "<table><tr>\n",
    "<td><img src=\"img/quest/Qimage-30-lecture5.jpg\" width=\"400\"/></td>\n",
    "<td>\n",
    "\n",
    "* If, instead of squaring the slope...<br>\n",
    "    **Size** = y-axis intercept + slope * **Weight**<br>\n",
    "    ... it minimizes ...<br>\n",
    "    **the sum of the squared residuals** **+** $\\mathbf{\\alpha}$ * <font color='green'>|the slope| <strike> <font color='red'>**the slope$^2$**<strike> <br>\n",
    "    \n",
    "    \n",
    "</td>\n",
    "</tr></table>"
   ]
  },
  {
   "cell_type": "markdown",
   "metadata": {
    "slideshow": {
     "slide_type": "slide"
    }
   },
   "source": [
    "## Elastic Net"
   ]
  },
  {
   "cell_type": "markdown",
   "metadata": {
    "slideshow": {
     "slide_type": "-"
    }
   },
   "source": [
    "<center>$\\min_{\\substack{w\\in I\\!R^{p}, b \\in I\\!R}} \\sum_{i=1}^{n} ||w^T \\mathbf{x}_i + b - y_i||^2 + \\alpha_1 ||w||_1 + \\alpha_2 ||w||_2^2$"
   ]
  },
  {
   "cell_type": "markdown",
   "metadata": {
    "slideshow": {
     "slide_type": "slide"
    }
   },
   "source": [
    "<font size=\"8\"><center> Linear models for **binary** classfication"
   ]
  },
  {
   "cell_type": "markdown",
   "metadata": {
    "slideshow": {
     "slide_type": "slide"
    }
   },
   "source": [
    "<div>\n",
    "<center>\n",
    "<img src=\"img/image-1.jpg\" width=\"800\"/>\n",
    "</div>"
   ]
  },
  {
   "cell_type": "markdown",
   "metadata": {
    "slideshow": {
     "slide_type": "-"
    }
   },
   "source": [
    "<center>$\\hat y = sign(w^T\\mathbf{x} + b) = sign(\\sum_{i=1} w_i x_i + b)$"
   ]
  },
  {
   "cell_type": "markdown",
   "metadata": {
    "slideshow": {
     "slide_type": "slide"
    }
   },
   "source": [
    "# Logistic Regression"
   ]
  },
  {
   "cell_type": "markdown",
   "metadata": {
    "slideshow": {
     "slide_type": "-"
    }
   },
   "source": [
    "<div>\n",
    "<table><tr>\n",
    "<td><img src=\"img/quest/Qimage-1.JPG\" width=\"300\"/></td>\n",
    "<td>\n",
    "\n",
    "* We have some data. Then we fit a line to it using **Least Square** method.\n",
    "* We can use this line to predict **size** given **weight**.\n",
    "    \n",
    "    \n",
    "</td>\n",
    "</tr></table>"
   ]
  },
  {
   "cell_type": "markdown",
   "metadata": {
    "slideshow": {
     "slide_type": "fragment"
    }
   },
   "source": [
    "<div>\n",
    "<table><tr>\n",
    "<td><img src=\"img/quest/Qimage-3.JPG\" width=\"400\"/></td>\n",
    "<td>\n",
    "\n",
    "* Logistic regression is similar to linear regression, except...\n",
    "* Logistic regression predicts whether something is **True** or **False**, instead of predicting something continuous like **size**.\n",
    "* Also, instead of fitting a line to the data, logistic regression fits an $S$ shaped \"logistic function\".\n",
    "* This curve goes from 0 to 1. This means that the curve tells you the probability as well.\n",
    "    \n",
    "    \n",
    "</td>\n",
    "</tr></table>"
   ]
  },
  {
   "cell_type": "markdown",
   "metadata": {
    "slideshow": {
     "slide_type": "slide"
    }
   },
   "source": [
    "<div>\n",
    "<center>\n",
    "<table><tr>\n",
    "<td><font size='8'><img src=\"img/quest/Qimage-4.JPG\" width=\"1100\"/></td>\n",
    "<td><font size='8'><img src=\"img/quest/Qimage-5.JPG\" width=\"900\"/></td>\n",
    "<td><font size='8'><img src=\"img/quest/Qimage-6.JPG\" width=\"900\"/></td>\n",
    "</tr></table>"
   ]
  },
  {
   "cell_type": "markdown",
   "metadata": {
    "slideshow": {
     "slide_type": "-"
    }
   },
   "source": [
    "If the probability an animal is obese is >50%, then we will classify it as obese, otherwise we will classify it as \"not obese\"."
   ]
  },
  {
   "cell_type": "markdown",
   "metadata": {
    "slideshow": {
     "slide_type": "slide"
    }
   },
   "source": [
    "* logstic regression does not have the same concept of a \"residual\", so it can't use least squares as in linear regression.\n",
    "* Instead it uses something called \"**maximum likelihood**\"."
   ]
  },
  {
   "cell_type": "markdown",
   "metadata": {
    "slideshow": {
     "slide_type": "fragment"
    }
   },
   "source": [
    "<div>\n",
    "\n",
    "<table><tr>\n",
    "<td><img src=\"img/quest/Qimage-7.JPG\" width=\"300\"/></td>\n",
    "<td>   \n",
    "\n",
    "**In a nutshell:**\n",
    "* You pick a scaled probability, as shown by the curves in figures below.\n",
    "* Then you calculate the likelihood for all samples.\n",
    "* Lastly, you multiply all of these likelihoods together. That is the likelihood of the data given this line.\n",
    "    \n",
    "</td>\n",
    "</tr></table>"
   ]
  },
  {
   "cell_type": "markdown",
   "metadata": {
    "slideshow": {
     "slide_type": "slide"
    }
   },
   "source": [
    "Then you shift the line and calculate a new likelihood of the data.\n",
    "\n",
    "<div>\n",
    "<center>\n",
    "<table><tr>\n",
    "<td><font size='8'><img src=\"img/quest/Qimage-8.JPG\" width=\"500\"/></td>\n",
    "<td><font size='8'><img src=\"img/quest/Qimage-9.JPG\" width=\"500\"/></td>\n",
    "<td><font size='8'><img src=\"img/quest/Qimage-10.JPG\" width=\"500\"/></td>\n",
    "</tr></table>\n",
    "    \n",
    "Finally, the curve with the maximum likelihood is selected "
   ]
  },
  {
   "cell_type": "markdown",
   "metadata": {
    "slideshow": {
     "slide_type": "slide"
    }
   },
   "source": [
    "# Closed Formula for Logistic Regression"
   ]
  },
  {
   "cell_type": "markdown",
   "metadata": {
    "slideshow": {
     "slide_type": "-"
    }
   },
   "source": [
    "<div>\n",
    "<table><tr>\n",
    "<td><center>$\\log (\\frac{p(y = 1|x)}{p(y = 0|x)}) = w^T \\mathbf{x} + b$\n",
    "    <center>$p(y = 1|x) = \\frac{1}{1 + e^{-w^T\\mathbf{x} - b}}$\n",
    "    <center>$\\min_{\\substack{w\\in I\\!R^{p}, b \\in I\\!R}} -\\sum_{i}^{n}\\log(exp(-y_i(w^T\\mathbf{x} + b)) + 1)$\n",
    "    <center>$\\hat y = sign(w^T\\mathbf{x} + b)$   </td>\n",
    "<td><font size='8'><img src=\"img/image-3.jpg\" width=\"600\"/></td>\n",
    "</tr></table>\n"
   ]
  },
  {
   "cell_type": "markdown",
   "metadata": {
    "slideshow": {
     "slide_type": "slide"
    }
   },
   "source": [
    "# Quiz 1\n",
    "\n",
    "Is Logistic regression a supervised machine learning algorithm?\n",
    "\n",
    "A) Yes<br>\n",
    "B) No\n",
    "\n",
    "Please answer here: https://PollEv.com/multiple_choice_polls/I1HIjmDRjp2kIzLyBJQho/respond"
   ]
  },
  {
   "cell_type": "markdown",
   "metadata": {
    "slideshow": {
     "slide_type": "slide"
    }
   },
   "source": [
    "# Support Vector Machines - Mathless :-) "
   ]
  },
  {
   "cell_type": "markdown",
   "metadata": {
    "slideshow": {
     "slide_type": "-"
    }
   },
   "source": [
    "<div>\n",
    "<center>\n",
    "<table><tr>\n",
    "<td><img src=\"img/quest/Qimage-11.JPG\" width=\"900\"/></td>\n",
    "<td>   \n",
    "\n",
    "* The <font color='red'> red dots<font color='black'> represents <font color='red'>not obese <font color='black'>class.\n",
    "* The <font color='green'> green dots<font color='black'> represents <font color='green'> obese <font color='black'>class.\n",
    "    \n",
    "</td>\n",
    "</tr></table>\n"
   ]
  },
  {
   "cell_type": "markdown",
   "metadata": {
    "slideshow": {
     "slide_type": "fragment"
    }
   },
   "source": [
    "<div>\n",
    "<center>\n",
    "<table><tr>\n",
    "<td><img src=\"img/quest/Qimage-12.JPG\" width=\"900\"/></td>\n",
    "<td>   \n",
    "\n",
    "* Based on these observations, we can pick a threshold!\n",
    "* When we get a new observations, we can classify them based on their position to the threshold.\n",
    "    \n",
    "</td>\n",
    "</tr></table>"
   ]
  },
  {
   "cell_type": "markdown",
   "metadata": {
    "slideshow": {
     "slide_type": "fragment"
    }
   },
   "source": [
    "<div>\n",
    "<center>\n",
    "<table><tr>\n",
    "<td><img src=\"img/quest/Qimage-13.JPG\" width=\"900\"/></td>\n",
    "<td>   \n",
    "\n",
    "* However, what if get a new observation (black one)?\n",
    "* Because this observation has more mass than the threshold, we classify it as <font color='green'> obese.\n",
    "    \n",
    "</td>\n",
    "</tr></table>"
   ]
  },
  {
   "cell_type": "markdown",
   "metadata": {
    "slideshow": {
     "slide_type": "fragment"
    }
   },
   "source": [
    "But that does not make sense, because it is much closer to the observations that are not <font color='red'>not obese.\n",
    "<div>\n",
    "<center>\n",
    "<img src=\"img/quest/Qimage-14.JPG\" width=\"700\"/>\n",
    "</div> "
   ]
  },
  {
   "cell_type": "markdown",
   "metadata": {
    "slideshow": {
     "slide_type": "slide"
    }
   },
   "source": [
    "<div>\n",
    "<center>\n",
    "<table><tr>\n",
    "<td><img src=\"img/quest/Qimage-15.JPG\" width=\"800\"/></td>\n",
    "<td>   \n",
    "\n",
    "* We can focus on the observations on the edges of each cluster.\n",
    "* And use the midpoint between them as the threshold.\n",
    "    \n",
    "</td>\n",
    "</tr></table>"
   ]
  },
  {
   "cell_type": "markdown",
   "metadata": {
    "slideshow": {
     "slide_type": "fragment"
    }
   },
   "source": [
    "<div>\n",
    "<center>\n",
    "<table><tr>\n",
    "<td><img src=\"img/quest/Qimage-16.JPG\" width=\"800\"/></td>\n",
    "<td>   \n",
    "\n",
    "* Now, when a new observation falls on the left side of the threshold (black one) ...\n",
    "* It will be closer to the <font color='red'>not obese<font color='black'> observations than the <font color='green'> obese <font color='black'> observations.\n",
    "* So it make sense to classify this new observation as <font color='red'>not obese.\n",
    "    \n",
    "</td>\n",
    "</tr></table>"
   ]
  },
  {
   "cell_type": "markdown",
   "metadata": {
    "slideshow": {
     "slide_type": "fragment"
    }
   },
   "source": [
    "<div>\n",
    "<center>\n",
    "<table><tr>\n",
    "<td><img src=\"img/quest/Qimage-17.JPG\" width=\"800\"/></td>\n",
    "<td>   \n",
    "\n",
    "* The shortest distance between the observations and the threshold is called the **margin**.\n",
    "* When the threshold is halfway between the two observations, the **margin** is as large as it can be.\n",
    "* This is alled **Maximum Margin Classifier** \n",
    "    \n",
    "    \n",
    "</td>\n",
    "</tr></table>"
   ]
  },
  {
   "cell_type": "markdown",
   "metadata": {
    "slideshow": {
     "slide_type": "slide"
    }
   },
   "source": [
    "What if we had an outlier observation that was classified as <font color='red'>not obese<font color='black'>, but was much closer to the <font color='green'>obese <font color='black'>observaions."
   ]
  },
  {
   "cell_type": "markdown",
   "metadata": {
    "slideshow": {
     "slide_type": "-"
    }
   },
   "source": [
    "<div>\n",
    "<center>\n",
    "<img src=\"img/quest/Qimage-18.JPG\" width=\"900\"/>\n",
    "</div>"
   ]
  },
  {
   "cell_type": "markdown",
   "metadata": {
    "slideshow": {
     "slide_type": "fragment"
    }
   },
   "source": [
    "<div>\n",
    "<center>\n",
    "<table><tr>\n",
    "<td><img src=\"img/quest/Qimage-19.JPG\" width=\"800\"/></td>\n",
    "<td>   \n",
    "\n",
    "* In this case, the **Maxuímum Margin Classifier** would be super close to the <font color='green'>obese <font color='black'>observaions.    \n",
    "</td>\n",
    "</tr></table>"
   ]
  },
  {
   "cell_type": "markdown",
   "metadata": {
    "slideshow": {
     "slide_type": "fragment"
    }
   },
   "source": [
    "<div>\n",
    "\n",
    "<table><tr>\n",
    "<td><img src=\"img/quest/Qimage-20.JPG\" width=\"800\"/></td>\n",
    "<td>   \n",
    "\n",
    "* Now, if we got this new black observation,\n",
    "* we would classify it as <font color='red'>not obese<font color='black'>, even though most of the <font color='red'>not obese<font color='black'>observations are much further away than the <font color='green'>obese <font color='black'>observaions.\n",
    "</td>\n",
    "</tr></table>\n",
    "\n",
    " \n",
    "* So **Maximum Margin Classifiers** are _super sensitive to outliers_ in the training data.\n",
    "* To make a threshold that is not so sensitive to outliers we must **allow misclassification**."
   ]
  },
  {
   "cell_type": "markdown",
   "metadata": {
    "slideshow": {
     "slide_type": "slide"
    }
   },
   "source": [
    "<div>\n",
    "<center>\n",
    "<table><tr>\n",
    "<td><img src=\"img/quest/Qimage-21.JPG\" width=\"800\"/></td>\n",
    "<td>   \n",
    "\n",
    "* If we put thethreshold halfway between these two observations,\n",
    "* Then we will misclassify the <font color='red'>not obese<font color='black'>observation close to the <font color='green'>obese <font color='black'>observaions.\n",
    "</td>\n",
    "</tr></table>"
   ]
  },
  {
   "cell_type": "markdown",
   "metadata": {
    "slideshow": {
     "slide_type": "fragment"
    }
   },
   "source": [
    "<div>\n",
    "<center>\n",
    "<table><tr>\n",
    "<td><img src=\"img/quest/Qimage-22.JPG\" width=\"800\"/></td>\n",
    "<td>   \n",
    "\n",
    "* If we get a new observation, it will be classified as <font color='green'>obese<font color='black'>.\n",
    "</td>\n",
    "</tr></table>"
   ]
  },
  {
   "cell_type": "markdown",
   "metadata": {
    "slideshow": {
     "slide_type": "fragment"
    }
   },
   "source": [
    "* Choosing a threshold that allows misclassifications is an example of the **Bias/Variance Tradeoff**!\n",
    "* When we allow misclassifications, the distance between the observations and the threshold is called a **Soft Margin**\n",
    "* Our task is to find the **optimum soft margin**. "
   ]
  },
  {
   "cell_type": "markdown",
   "metadata": {
    "slideshow": {
     "slide_type": "slide"
    }
   },
   "source": [
    "When we use a **Soft Margin** to determine the location of a threshold, then we are using a **Soft Margin Classifier** aka a **Support Vector Classifier** to classify observations."
   ]
  },
  {
   "cell_type": "markdown",
   "metadata": {
    "slideshow": {
     "slide_type": "fragment"
    }
   },
   "source": [
    "<div>\n",
    "<center>\n",
    "<img src=\"img/quest/Qimage-23.JPG\" width=\"900\"/>\n",
    "</div>"
   ]
  },
  {
   "cell_type": "markdown",
   "metadata": {
    "slideshow": {
     "slide_type": "slide"
    }
   },
   "source": [
    "<div>\n",
    "\n",
    "<table><tr>\n",
    "<td><img src=\"img/quest/Qimage-24.JPG\" width=\"800\"/></td>\n",
    "<td><img src=\"img/quest/Qimage-25.JPG\" width=\"800\"/></td>\n",
    "</tr></table>\n",
    "    \n",
    "* What if the data is **2-Dimensional**?\n",
    "* Then a **Support Vector Classifier** is a line."
   ]
  },
  {
   "cell_type": "markdown",
   "metadata": {
    "slideshow": {
     "slide_type": "slide"
    }
   },
   "source": [
    "<div>\n",
    "<table><tr>\n",
    "<td><img src=\"img/quest/Qimage-26.JPG\" width=\"800\"/></td>\n",
    "<td>   \n",
    "\n",
    "* When the data are **3-Dimensional**, the **Support Vector Classifier** forms a plane, instead of a line.\n",
    "</td>\n",
    "</tr></table>"
   ]
  },
  {
   "cell_type": "markdown",
   "metadata": {
    "slideshow": {
     "slide_type": "slide"
    }
   },
   "source": [
    "# Downside of the Support Vector Classifiers"
   ]
  },
  {
   "cell_type": "markdown",
   "metadata": {
    "slideshow": {
     "slide_type": "-"
    }
   },
   "source": [
    "<div>\n",
    "<center>\n",
    "<table><tr>\n",
    "<td><img src=\"img/quest/Qimage-27.JPG\" width=\"800\"/></td>\n",
    "<td>   \n",
    "\n",
    "* What if this was our training data?\n",
    "* The<font color='red'> red dots<font color='black'> represent if the patients are not cured, and \n",
    "* The <font color='green'> green dots<font color='black'> represent if the patients are cured  \n",
    "</td>\n",
    "</tr></table>"
   ]
  },
  {
   "cell_type": "markdown",
   "metadata": {
    "slideshow": {
     "slide_type": "fragment"
    }
   },
   "source": [
    "No matter where we put the classifier, we will make a lot of misclassifications."
   ]
  },
  {
   "cell_type": "markdown",
   "metadata": {
    "slideshow": {
     "slide_type": "-"
    }
   },
   "source": [
    "<div>\n",
    "<center>\n",
    "<table><tr>\n",
    "<td><font size='8'><img src=\"img/quest/Qimage-28.JPG\" width=\"900\"/></td>\n",
    "<td><font size='8'><img src=\"img/quest/Qimage-29.JPG\" width=\"900\"/></td>\n",
    "<td><font size='8'><img src=\"img/quest/Qimage-30.JPG\" width=\"900\"/></td>\n",
    "</tr></table>"
   ]
  },
  {
   "cell_type": "markdown",
   "metadata": {
    "slideshow": {
     "slide_type": "fragment"
    }
   },
   "source": [
    "So we need something more than just **Maximal Margin Classifier** and **Support Vector Classifiers**."
   ]
  },
  {
   "cell_type": "markdown",
   "metadata": {
    "slideshow": {
     "slide_type": "slide"
    }
   },
   "source": [
    "# Support Vector Machines"
   ]
  },
  {
   "cell_type": "markdown",
   "metadata": {
    "slideshow": {
     "slide_type": "-"
    }
   },
   "source": [
    "<div>\n",
    "<center>\n",
    "<table><tr>\n",
    "<td><img src=\"img/quest/Qimage-31.JPG\" width=\"500\"/></td>\n",
    "<td><img src=\"img/quest/Qimage-32.JPG\" width=\"500\"/></td>\n",
    "<td>   \n",
    "\n",
    "* We start by adding a **y-axis** so we can draw a grapgh\n",
    "* The **y-axis** will be the square of the dosages (**$Dosages^2$**)\n",
    "* The data are now **2-Dimensional**.\n",
    "</td>\n",
    "</tr></table>"
   ]
  },
  {
   "cell_type": "markdown",
   "metadata": {
    "slideshow": {
     "slide_type": "fragment"
    }
   },
   "source": [
    "<div>\n",
    "<center>\n",
    "<table><tr>\n",
    "<td><img src=\"img/quest/Qimage-33.JPG\" width=\"400\"/></td>\n",
    "<td>   \n",
    "\n",
    "* Now the **Support Vector Classifier** can be used to classify new observations.\n",
    "</td>\n",
    "</tr></table>"
   ]
  },
  {
   "cell_type": "markdown",
   "metadata": {
    "slideshow": {
     "slide_type": "slide"
    }
   },
   "source": [
    "# Main Ideas Behind Support Vector Machines (SVMs) "
   ]
  },
  {
   "cell_type": "markdown",
   "metadata": {
    "slideshow": {
     "slide_type": "-"
    }
   },
   "source": [
    "1. Start with data in a relatively low dimension\n",
    "2. Move the data into a higher dimension\n",
    "3. Find a **Support Vector Classifier** that separates the higher dimensional data into two groups."
   ]
  },
  {
   "cell_type": "markdown",
   "metadata": {
    "slideshow": {
     "slide_type": "fragment"
    }
   },
   "source": [
    "<font color= 'red'> But wait!\n",
    "<font color= 'black'>\n",
    "\n",
    "* How do we decide how to transform the data? \n",
    "* In the previous example, why not using $Dosage^3$ or $\\sqrt {Dosage}$"
   ]
  },
  {
   "cell_type": "markdown",
   "metadata": {
    "slideshow": {
     "slide_type": "slide"
    }
   },
   "source": [
    "# Kernel Function - Kernel Trick"
   ]
  },
  {
   "cell_type": "markdown",
   "metadata": {
    "slideshow": {
     "slide_type": "-"
    }
   },
   "source": [
    "In order to make the mathematics possible, **Support Vector Machines** use something called **Kernel Functions** to _systematically_ find **Support Vector Classifiers** in higher dimensions.\n",
    "    "
   ]
  },
  {
   "cell_type": "markdown",
   "metadata": {
    "slideshow": {
     "slide_type": "fragment"
    }
   },
   "source": [
    "<div>\n",
    "<center>\n",
    "<table><tr>\n",
    "<td><img src=\"img/quest/Qimage-34.JPG\" width=\"400\"/></td>\n",
    "<td>   \n",
    "\n",
    "* In this example, the **Polynomial Kernel** has been used, which has a parameter, **d**, which stands for the **degree** of the polynomial.\n",
    "</td>\n",
    "</tr></table>"
   ]
  },
  {
   "cell_type": "markdown",
   "metadata": {
    "slideshow": {
     "slide_type": "fragment"
    }
   },
   "source": [
    "<div>\n",
    "<center>\n",
    "<table><tr>\n",
    "<td><img src=\"img/quest/Qimage-35.JPG\" width=\"400\"/></td>\n",
    "<td>   \n",
    "\n",
    "* When $\\mathbf{d = 2}$, we get a **2nd dimension** based on $\\mathbf{Dosage^2}$. \n",
    "* The **Polynomial Kernel** computes the **2-Dimensional** relationships between each pair of observations.\n",
    "* These relationships are used to find a **Support Vector Classifier**\n",
    "</td>\n",
    "</tr></table>"
   ]
  },
  {
   "cell_type": "markdown",
   "metadata": {
    "slideshow": {
     "slide_type": "slide"
    }
   },
   "source": [
    "# Quiz 2\n",
    "\n",
    "How do we find a good value for d?\n",
    "\n",
    "A) Looking at the data <br>\n",
    "B) Cross validation <br>\n",
    "C) Trial and error <br>\n",
    "D) Choose the highest possible d value <br>\n",
    "\n",
    "Please answer here:\n",
    "https://PollEv.com/multiple_choice_polls/P7HX1pkWW66vOnjnGnNrE/respond"
   ]
  },
  {
   "cell_type": "markdown",
   "metadata": {
    "slideshow": {
     "slide_type": "slide"
    }
   },
   "source": [
    "# Radial Basis Function (RBF) Kernel"
   ]
  },
  {
   "cell_type": "markdown",
   "metadata": {
    "slideshow": {
     "slide_type": "-"
    }
   },
   "source": [
    "**RBF kernel** finds **Support Vector Classifiers** in infinite dimensions."
   ]
  },
  {
   "cell_type": "markdown",
   "metadata": {
    "slideshow": {
     "slide_type": "fragment"
    }
   },
   "source": [
    "<div>\n",
    "<center>\n",
    "<table><tr>\n",
    "<td><img src=\"img/quest/Qimage-36.JPG\" width=\"800\"/></td>\n",
    "<td>   \n",
    "\n",
    "* When we have a new observation (in black) ...\n",
    "* The **RBF Kernel** behaves like a **Weighted Nearest Neighbor** model.\n",
    "* Therefore, the closest observations (the nearest neighbors) have a lot of influence on how we classify the new observation (sample)\n",
    "* And observations (samples) that are further away have relatively little influence on the classification.\n",
    "</td>\n",
    "</tr></table>"
   ]
  },
  {
   "cell_type": "markdown",
   "metadata": {
    "slideshow": {
     "slide_type": "fragment"
    }
   },
   "source": [
    "<div>\n",
    "<center>\n",
    "<img src=\"img/quest/Qimage-37.JPG\" width=\"700\"/>\n",
    "</div>"
   ]
  },
  {
   "cell_type": "markdown",
   "metadata": {
    "slideshow": {
     "slide_type": "slide"
    }
   },
   "source": [
    "# Multiclass Classification"
   ]
  },
  {
   "cell_type": "markdown",
   "metadata": {
    "slideshow": {
     "slide_type": "-"
    }
   },
   "source": [
    "Reduction to Binary Classification"
   ]
  },
  {
   "cell_type": "markdown",
   "metadata": {
    "slideshow": {
     "slide_type": "-"
    }
   },
   "source": [
    "* One vs Rest\n",
    "* One vs One"
   ]
  },
  {
   "cell_type": "markdown",
   "metadata": {
    "slideshow": {
     "slide_type": "slide"
    }
   },
   "source": [
    "# One Vs Rest"
   ]
  },
  {
   "cell_type": "markdown",
   "metadata": {
    "slideshow": {
     "slide_type": "-"
    }
   },
   "source": [
    "\n",
    "**For 4 classes:**<br>\n",
    "* 1v{2,3,4}, 2v{1,3,4}, 3v{1,2,4}, 4v{1,2,3}<br>\n",
    "    \n",
    "**In general:** <br>\n",
    "* n binary classifiers - each on all data <br>"
   ]
  },
  {
   "cell_type": "markdown",
   "metadata": {
    "slideshow": {
     "slide_type": "slide"
    }
   },
   "source": [
    "# One vs Rest Prediction"
   ]
  },
  {
   "cell_type": "markdown",
   "metadata": {
    "slideshow": {
     "slide_type": "-"
    }
   },
   "source": [
    "Class with highest score"
   ]
  },
  {
   "cell_type": "markdown",
   "metadata": {
    "slideshow": {
     "slide_type": "-"
    }
   },
   "source": [
    "<div>\n",
    "<center>\n",
    "<table><tr>\n",
    "<td><font size='8'><img src=\"img/image-8.jpg\" width=\"900\"/></td>\n",
    "<td><font size='8'><img src=\"img/image-9.jpg\" width=\"900\"/></td>\n",
    "</tr></table>"
   ]
  },
  {
   "cell_type": "markdown",
   "metadata": {
    "slideshow": {
     "slide_type": "slide"
    }
   },
   "source": [
    "# One vs One"
   ]
  },
  {
   "cell_type": "markdown",
   "metadata": {
    "slideshow": {
     "slide_type": "-"
    }
   },
   "source": [
    "**For 4 classes:**<br>\n",
    "* 1v2, 1v3, 1v4, 2v3, 2v4, 3v4<br>\n",
    "    \n",
    "**In general:** <br>\n",
    "* n * (n-1) / 2 binary classifiers - each on a fraction of the data <br>\n",
    "* \"Vote for highest positives\"<br>\n",
    "* Classify by all classifiers.<br>\n",
    "* Count how often each class was predicted.<br>\n",
    "* Return most commonly predicted class.<br>"
   ]
  },
  {
   "cell_type": "markdown",
   "metadata": {
    "slideshow": {
     "slide_type": "slide"
    }
   },
   "source": [
    "# One vs One Predicion"
   ]
  },
  {
   "cell_type": "markdown",
   "metadata": {
    "slideshow": {
     "slide_type": "-"
    }
   },
   "source": [
    "<div>\n",
    "<center>\n",
    "<table><tr>\n",
    "<td><font size='8'><img src=\"img/image-10.jpg\" width=\"900\"/></td>\n",
    "<td><font size='8'><img src=\"img/image-11.jpg\" width=\"900\"/></td>\n",
    "</tr></table>"
   ]
  },
  {
   "cell_type": "markdown",
   "metadata": {
    "slideshow": {
     "slide_type": "slide"
    }
   },
   "source": [
    "# Summary"
   ]
  },
  {
   "cell_type": "markdown",
   "metadata": {
    "slideshow": {
     "slide_type": "-"
    }
   },
   "source": [
    "<div>\n",
    "<center>\n",
    "<table><tr>\n",
    "<td>\n",
    "    \n",
    "**One vs Rest**\n",
    "* n_classes classifier\n",
    "* trained on imbalanced datasets of original size\n",
    "* Retains some uncertainty?\n",
    "    \n",
    "<img src=\"img/image-9.jpg\" width=\"700\"/>\n",
    "    \n",
    "</td>\n",
    "<td>\n",
    "    \n",
    "**One vs One**\n",
    "* n_classes * (n_classes-1)/2 classifiers\n",
    "* trained on balanced subsets\n",
    "* No uncertainty propagated\n",
    "    \n",
    "<img src=\"img/image-11.jpg\" width=\"700\"/>\n",
    "    \n",
    "</td>\n",
    "</tr></table>"
   ]
  },
  {
   "cell_type": "markdown",
   "metadata": {
    "slideshow": {
     "slide_type": "slide"
    }
   },
   "source": [
    "# Multi-Class in Practice"
   ]
  },
  {
   "cell_type": "code",
   "execution_count": 1,
   "metadata": {
    "slideshow": {
     "slide_type": "-"
    }
   },
   "outputs": [
    {
     "name": "stdout",
     "output_type": "stream",
     "text": [
      "(150, 4)\n",
      "[50 50 50]\n"
     ]
    }
   ],
   "source": [
    "import numpy as np\n",
    "from sklearn.datasets import load_iris\n",
    "\n",
    "iris = load_iris()\n",
    "X, y = iris.data, iris.target\n",
    "print(X.shape)\n",
    "print(np.bincount(y))"
   ]
  },
  {
   "cell_type": "code",
   "execution_count": 6,
   "metadata": {
    "slideshow": {
     "slide_type": "-"
    }
   },
   "outputs": [
    {
     "name": "stderr",
     "output_type": "stream",
     "text": [
      "C:\\Users\\abpe\\Anaconda3\\lib\\site-packages\\sklearn\\linear_model\\_logistic.py:814: ConvergenceWarning: lbfgs failed to converge (status=1):\n",
      "STOP: TOTAL NO. of ITERATIONS REACHED LIMIT.\n",
      "\n",
      "Increase the number of iterations (max_iter) or scale the data as shown in:\n",
      "    https://scikit-learn.org/stable/modules/preprocessing.html\n",
      "Please also refer to the documentation for alternative solver options:\n",
      "    https://scikit-learn.org/stable/modules/linear_model.html#logistic-regression\n",
      "  n_iter_i = _check_optimize_result(\n",
      "C:\\Users\\abpe\\Anaconda3\\lib\\site-packages\\sklearn\\svm\\_base.py:1206: ConvergenceWarning: Liblinear failed to converge, increase the number of iterations.\n",
      "  warnings.warn(\n",
      "C:\\Users\\abpe\\Anaconda3\\lib\\site-packages\\sklearn\\svm\\_base.py:1206: ConvergenceWarning: Liblinear failed to converge, increase the number of iterations.\n",
      "  warnings.warn(\n",
      "C:\\Users\\abpe\\Anaconda3\\lib\\site-packages\\sklearn\\svm\\_base.py:1206: ConvergenceWarning: Liblinear failed to converge, increase the number of iterations.\n",
      "  warnings.warn(\n",
      "C:\\Users\\abpe\\Anaconda3\\lib\\site-packages\\sklearn\\svm\\_base.py:1206: ConvergenceWarning: Liblinear failed to converge, increase the number of iterations.\n",
      "  warnings.warn(\n",
      "C:\\Users\\abpe\\Anaconda3\\lib\\site-packages\\sklearn\\svm\\_base.py:1206: ConvergenceWarning: Liblinear failed to converge, increase the number of iterations.\n",
      "  warnings.warn(\n"
     ]
    }
   ],
   "source": [
    "from sklearn.linear_model import LogisticRegression\n",
    "from sklearn.svm import LinearSVC\n",
    "from sklearn.model_selection import cross_val_score\n",
    "\n",
    "# Implement a logistic regression and a linear SVM using the iris dataset\n",
    "\n",
    "### YOUR CODE HERE\n",
    "logreg = LogisticRegression()\n",
    "linsvm = LinearSVC()\n",
    "\n",
    "cv_logreg = np.mean(cross_val_score(logreg, X, y, cv=5))\n",
    "cv_linsvm = cross_val_score(linsvm, X, y, cv=5)\n"
   ]
  },
  {
   "cell_type": "code",
   "execution_count": 8,
   "metadata": {},
   "outputs": [
    {
     "data": {
      "text/plain": [
       "array([1.        , 1.        , 0.93333333, 0.9       , 1.        ])"
      ]
     },
     "execution_count": 8,
     "metadata": {},
     "output_type": "execute_result"
    }
   ],
   "source": [
    "cv_linsvm"
   ]
  },
  {
   "cell_type": "code",
   "execution_count": 78,
   "metadata": {
    "slideshow": {
     "slide_type": "slide"
    }
   },
   "outputs": [
    {
     "data": {
      "image/png": "[encoded data removed]",
      "text/plain": [
       "<Figure size 432x108 with 3 Axes>"
      ]
     },
     "metadata": {
      "needs_background": "light"
     },
     "output_type": "display_data"
    }
   ],
   "source": [
    "import matplotlib.pyplot as plt\n",
    "fig, axes = plt.subplots(1, 3, figsize=(6, 1.5))\n",
    "for ax, coef, classname in zip(axes, logreg.coef_, iris.target_names):\n",
    "    ax.barh(range(4), coef, height=.5, color=plt.cm.bwr_r(np.sign(coef)))\n",
    "    ax.set_xlim(logreg.coef_.min() - .1, logreg.coef_.max() + .1)\n",
    "\n",
    "    ax.set_title(classname)\n",
    "    ax.set_frame_on(False)\n",
    "    ax.set_yticks(())\n",
    "    \n",
    "axes[0].set_yticks(range(4))\n",
    "axes[0].set_yticklabels(iris.feature_names)\n",
    "plt.tight_layout()"
   ]
  },
  {
   "cell_type": "markdown",
   "metadata": {
    "slideshow": {
     "slide_type": "-"
    }
   },
   "source": [
    "<div>\n",
    "<center>\n",
    "<img src=\"img/image-12.jpg\" width=\"700\"/>\n",
    "</div>"
   ]
  },
  {
   "cell_type": "markdown",
   "metadata": {
    "slideshow": {
     "slide_type": "slide"
    }
   },
   "source": [
    "# Kernel SVMs"
   ]
  },
  {
   "cell_type": "markdown",
   "metadata": {
    "slideshow": {
     "slide_type": "-"
    }
   },
   "source": [
    "**Motivation:**\n",
    "    \n",
    "* Go from linear models to more powerful nonlinear ones.\n",
    "* Keep convexity (ease of optimization)."
   ]
  },
  {
   "cell_type": "markdown",
   "metadata": {
    "slideshow": {
     "slide_type": "slide"
    }
   },
   "source": [
    "# Introducing Kernels"
   ]
  },
  {
   "cell_type": "markdown",
   "metadata": {
    "slideshow": {
     "slide_type": "-"
    }
   },
   "source": [
    "<center>$\\hat y = sign(\\sum_{i}^{n}\\alpha_i(\\mathbf{x}_i^T\\mathbf{x})) \\longrightarrow \\hat y = sign(\\sum_{i}^{n}\\alpha_i(\\phi(\\mathbf{x}_i)^T\\phi(\\mathbf{x})))$<br>\n",
    "    \n",
    "***\n",
    "    \n",
    "<center>$\\phi(\\mathbf{x}_i)^T\\phi(\\mathbf{x})) \\longrightarrow k(\\mathbf{x}_i,\\mathbf{x}_j)$"
   ]
  },
  {
   "cell_type": "markdown",
   "metadata": {
    "slideshow": {
     "slide_type": "slide"
    }
   },
   "source": [
    "# Examples of Kernels"
   ]
  },
  {
   "cell_type": "markdown",
   "metadata": {
    "slideshow": {
     "slide_type": "-"
    }
   },
   "source": [
    "<center>$k_{linear}(\\mathbf{x},\\mathbf{x'}) = \\mathbf{x}^T\\mathbf{x'}$<br>\n",
    "    \n",
    "***\n",
    "    \n",
    "<center>$k_{poly}(\\mathbf{x},\\mathbf{x'}) = (\\mathbf{x}^T\\mathbf{x'} + c)^d$<br>\n",
    "    \n",
    "***\n",
    "    \n",
    "<center>$k_{rbf}(\\mathbf{x},\\mathbf{x'}) = exp(\\gamma||\\mathbf{x}^T - \\mathbf{x'}||^2)$<br>\n",
    "    \n",
    "***\n",
    "    \n",
    "<center>$k_{sigmoid}(\\mathbf{x},\\mathbf{x'}) = tanh(\\gamma\\mathbf{x}^T\\mathbf{x'} + r)$<br>\n",
    "\n",
    "    \n",
    "If $k$ and $k'$ are kernels, so are $k + k', kk', ck'$"
   ]
  },
  {
   "cell_type": "markdown",
   "metadata": {
    "slideshow": {
     "slide_type": "slide"
    }
   },
   "source": [
    "# Kernels in Practice"
   ]
  },
  {
   "cell_type": "markdown",
   "metadata": {
    "slideshow": {
     "slide_type": "-"
    }
   },
   "source": [
    "* Less interpretable\n",
    "* Long runtime for “large” datasets (100k samples)\n",
    "* RBF is “universal kernel” - can learn (aka overfit) anything."
   ]
  },
  {
   "cell_type": "markdown",
   "metadata": {
    "slideshow": {
     "slide_type": "slide"
    }
   },
   "source": [
    "# Parameters for RBF Kernels"
   ]
  },
  {
   "cell_type": "markdown",
   "metadata": {
    "slideshow": {
     "slide_type": "-"
    }
   },
   "source": [
    "* Regularization parameter C is limit on alphas (for any kernel)\n",
    "* Gamma is bandwidth: $k_{rbf}(\\mathbf{x},\\mathbf{x'}) = exp(\\gamma||\\mathbf{x}^T - \\mathbf{x'}||^2)$"
   ]
  },
  {
   "cell_type": "code",
   "execution_count": 4,
   "metadata": {},
   "outputs": [
    {
     "data": {
      "text/plain": [
       "<matplotlib.legend.Legend at 0x1897c3b4a00>"
      ]
     },
     "execution_count": 4,
     "metadata": {},
     "output_type": "execute_result"
    },
    {
     "data": {
      "image/png": "[encoded data removed]",
      "text/plain": [
       "<Figure size 432x288 with 1 Axes>"
      ]
     },
     "metadata": {
      "needs_background": "light"
     },
     "output_type": "display_data"
    }
   ],
   "source": [
    "import matplotlib.pyplot as plt\n",
    "line = np.linspace(-50, 50, 1000)\n",
    "def rbf(gamma):\n",
    "    return np.exp(-gamma * line**2)\n",
    "\n",
    "for gamma in [1e-4, 1e-3, 1e-2, 1e-1, 1, 10]:\n",
    "    plt.plot(line, rbf(gamma), label=\"gamma={}\".format(gamma))\n",
    "plt.legend(loc=(1, 0))\n"
   ]
  },
  {
   "cell_type": "markdown",
   "metadata": {
    "slideshow": {
     "slide_type": "slide"
    }
   },
   "source": [
    "<div>\n",
    "<center>\n",
    "<img src=\"img/image-16.jpg\" width=\"1000\"/>\n",
    "</div>"
   ]
  },
  {
   "cell_type": "markdown",
   "metadata": {
    "slideshow": {
     "slide_type": "slide"
    }
   },
   "source": [
    "# Quiz 3\n",
    "\n",
    "The effectiveness of an SVM depends upon:\n",
    "    \n",
    "A) Selection of Kernel<br>\n",
    "B) Soft margin parameter C<br>\n",
    "C) Both\n",
    "\n",
    "Please answer here:https://PollEv.com/multiple_choice_polls/gzv6J2izENKb0UNpgZaw1/respond"
   ]
  },
  {
   "cell_type": "markdown",
   "metadata": {
    "slideshow": {
     "slide_type": "slide"
    }
   },
   "source": [
    "# Scaling and Default Params"
   ]
  },
  {
   "cell_type": "code",
   "execution_count": 10,
   "metadata": {
    "slideshow": {
     "slide_type": "slide"
    }
   },
   "outputs": [
    {
     "name": "stdout",
     "output_type": "stream",
     "text": [
      "scaled:  [1.         0.97222222 0.94444444 1.         1.        ] 0.9833333333333334\n",
      "noscale:  [0.63888889 0.61111111 0.63888889 0.68571429 0.74285714] 0.6634920634920635\n"
     ]
    }
   ],
   "source": [
    "from sklearn.pipeline import make_pipeline\n",
    "from sklearn.model_selection import GridSearchCV, cross_val_score, train_test_split\n",
    "from sklearn.preprocessing import StandardScaler\n",
    "from sklearn.svm import SVC\n",
    "from sklearn.datasets import load_wine\n",
    "\n",
    "wine = load_wine()\n",
    "X, y = wine.data, wine.target\n",
    "X_train, X_test, y_train, y_test = train_test_split(X, y, random_state=42)\n",
    "\n",
    "# Complete the code below to implement SVC with and without sclaing and compare the results. \n",
    "# You may use pipeline for scaling scenario.\n",
    "\n",
    "### YOUR CODE HERE\n",
    "non_scaled = SVC()\n",
    "scaledPip = make_pipeline(StandardScaler(), SVC())\n",
    "\n",
    "scaledCV = cross_val_score(scaledPip, X, y, cv=5)\n",
    "nonscaledCV = cross_val_score(non_scaled, X, y, cv=5)\n",
    "\n",
    "print(\"scaled: \", scaledCV, scaledCV.mean())\n",
    "print(\"noscale: \", nonscaledCV, nonscaledCV.mean())"
   ]
  },
  {
   "cell_type": "markdown",
   "metadata": {
    "slideshow": {
     "slide_type": "slide"
    }
   },
   "source": [
    "# Grid-Searching Parameters"
   ]
  },
  {
   "cell_type": "markdown",
   "metadata": {
    "slideshow": {
     "slide_type": "-"
    }
   },
   "source": [
    "Please implement a GridSearchCV to find the optimum value of C and gamma parameters of your previously implemented SVM pipeline and fine tune. "
   ]
  },
  {
   "cell_type": "code",
   "execution_count": 14,
   "metadata": {},
   "outputs": [
    {
     "name": "stdout",
     "output_type": "stream",
     "text": [
      "Pipeline(steps=[('standardscaler', StandardScaler()),\n",
      "                ('svc', SVC(C=10.0, gamma=0.004641588833612777))])\n"
     ]
    },
    {
     "data": {
      "text/plain": [
       "0.9888888888888889"
      ]
     },
     "execution_count": 14,
     "metadata": {},
     "output_type": "execute_result"
    }
   ],
   "source": [
    "param_grid = {'svc__C': np.logspace(-3,3,10),\n",
    "             'svc__gamma': np.logspace(-3,3,10)}\n",
    "\n",
    "grid = GridSearchCV(scaledPip, param_grid=param_grid, cv=10)\n",
    "grid.fit(X, y)\n",
    "\n",
    "print(grid.best_estimator_)\n",
    "grid.best_score_\n"
   ]
  },
  {
   "cell_type": "markdown",
   "metadata": {
    "slideshow": {
     "slide_type": "slide"
    }
   },
   "source": [
    "<font size=\"25\"><center>Thank you!"
   ]
  }
 ],
 "metadata": {
  "celltoolbar": "Slideshow",
  "kernelspec": {
   "display_name": "Python 3 (ipykernel)",
   "language": "python",
   "name": "python3"
  },
  "language_info": {
   "codemirror_mode": {
    "name": "ipython",
    "version": 3
   },
   "file_extension": ".py",
   "mimetype": "text/x-python",
   "name": "python",
   "nbconvert_exporter": "python",
   "pygments_lexer": "ipython3",
   "version": "3.9.7"
  },
  "rise": {
   "enable_chalkboard": true
  }
 },
 "nbformat": 4,
 "nbformat_minor": 4
}
