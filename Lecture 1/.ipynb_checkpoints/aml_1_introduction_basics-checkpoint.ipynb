{
 "cells": [
  {
   "cell_type": "markdown",
   "metadata": {
    "slideshow": {
     "slide_type": "slide"
    }
   },
   "source": [
    "<center>\n",
    "<img src=\"img/quest/aml-logo.png\" width=\"650\"/>\n",
    "\n",
    "***\n",
    "\n",
    "<center>Lecture 1</center>\n",
    "\n",
    "***\n",
    "\n",
    "<center>Introduction<br> + <br>Course Setup</center>  \n",
    "\n",
    "***\n",
    "\n",
    "<center>5 February 2024<center>\n",
    "<center>Rahman Peimankar<center>"
   ]
  },
  {
   "cell_type": "markdown",
   "metadata": {
    "slideshow": {
     "slide_type": "slide"
    }
   },
   "source": [
    "# Course Logistics "
   ]
  },
  {
   "cell_type": "markdown",
   "metadata": {
    "slideshow": {
     "slide_type": "-"
    }
   },
   "source": [
    "* **Room:** U28\n",
    "* **Date and time:** Monday – 12:15-16:00  \n",
    "* **Office hours:** Monday – 10:00-11:00 (by appointment) \n",
    "* **Zoom link:** https://syddanskuni.zoom.us/j/67575982272\n",
    "\n",
    "We will talk about format of the course and grading in details later on today! "
   ]
  },
  {
   "cell_type": "markdown",
   "metadata": {
    "slideshow": {
     "slide_type": "slide"
    }
   },
   "source": [
    "## My Contact Information"
   ]
  },
  {
   "cell_type": "markdown",
   "metadata": {
    "slideshow": {
     "slide_type": "-"
    }
   },
   "source": [
    "* **Instructor:** Abdolrahman (Rahman) Peimankar \n",
    "* **Affiliation:** Associate Professor at The Maersk Mc-Kinney Moller Institute, University of Southern Denmark \n",
    "* **Email:** abpe@mmmi.sdu.dk \n",
    "* **Office location:** Ø19-609b-1"
   ]
  },
  {
   "cell_type": "markdown",
   "metadata": {
    "slideshow": {
     "slide_type": "slide"
    }
   },
   "source": [
    "### Baby Elin 😊\n",
    "Can you guess? How old is Elin?<br> \n",
    "Please vote [here!](https://PollEv.com/multiple_choice_polls/kONHXGgM5oy6GiLx0fa2M/respond) \n",
    "* We will use Poll Everywhere software for short quizzes and feedback in the course!"
   ]
  },
  {
   "cell_type": "markdown",
   "metadata": {
    "slideshow": {
     "slide_type": "slide"
    }
   },
   "source": [
    "## Now it is your turn! 😊 "
   ]
  },
  {
   "cell_type": "markdown",
   "metadata": {
    "slideshow": {
     "slide_type": "-"
    }
   },
   "source": [
    "* Your name and education, and\n",
    "* If you are an exchange or SDU student\n",
    "* **Your most favourite activity**"
   ]
  },
  {
   "cell_type": "markdown",
   "metadata": {
    "slideshow": {
     "slide_type": "slide"
    }
   },
   "source": [
    "# Lecture 1 - Agenda"
   ]
  },
  {
   "cell_type": "markdown",
   "metadata": {
    "slideshow": {
     "slide_type": "-"
    }
   },
   "source": [
    "1. Course Overview\n",
    "2. What is machine learning\n",
    "3. Machine Learning Categories\n",
    "4. Machine Learning Applications\n",
    "5. Brief History and Machine Learning Ecosystem\n",
    "6. Course setup"
   ]
  },
  {
   "cell_type": "markdown",
   "metadata": {
    "slideshow": {
     "slide_type": "slide"
    }
   },
   "source": [
    "# 1. Course Overview"
   ]
  },
  {
   "cell_type": "markdown",
   "metadata": {
    "slideshow": {
     "slide_type": "-"
    }
   },
   "source": [
    "**Part 1: Computational Foundation & Introduction**<br>\n",
    "   * Lecture 1: Course setup + Introduction\n",
    "   * Lecture 2: Python Basics and Packages \n",
    "\n",
    "**Part 2: Supervised Learning** \n",
    "   * Lecture 3: Introduction to Supervised Learning\n",
    "   * Lecture 4: Preprocessing and Feature Transformation\n",
    "   \n",
    "**Part 3: Linear Models**\n",
    "   * Lecture 5: Linear Models for Regression\n",
    "   * Lecture 6: Linear Models for Classification"
   ]
  },
  {
   "cell_type": "markdown",
   "metadata": {
    "slideshow": {
     "slide_type": "slide"
    }
   },
   "source": [
    "**Part 4: Non-linear Models**\n",
    "   * Lecture 7: Decision Trees, Random Forests, Ensemble  \n",
    "   \n",
    "**Part 5: Evaluation**\n",
    "   * Lecture 8: Model Evaluation + Learning with Imbalanced Data\n",
    "\n",
    "**Part 6: Automate Machine Learning**\n",
    "   * Lecture 9: Feature Selection + Parameter Tuning and Automated ML\n",
    "\n",
    "**Part 7: Clustering**\n",
    "   * Lecture 10:   Dimensionality Reduction + Clustring + Outlier Detection\n",
    "   \n",
    "**Part 8: Neural Networks**\n",
    "   * Neural Networks + Keras and Deep Neural Networks"
   ]
  },
  {
   "cell_type": "markdown",
   "metadata": {
    "slideshow": {
     "slide_type": "slide"
    }
   },
   "source": [
    "# 2. What is Machine Learning "
   ]
  },
  {
   "cell_type": "markdown",
   "metadata": {
    "slideshow": {
     "slide_type": "-"
    }
   },
   "source": [
    "<div>\n",
    "\n",
    "<table><tr>\n",
    "<td>\n",
    "    \n",
    "Humans learn from past experiences\n",
    "    \n",
    "<img src=\"img/quest/Qimage-1.JPG\" width=\"600\"/>\n",
    "    \n",
    "</td>\n",
    "<td>\n",
    "    \n",
    "Machines follow instructions given by humans\n",
    "    \n",
    "<img src=\"img/quest/Qimage-2.JPG\" width=\"530\"/>\n",
    "    \n",
    "</td>\n",
    "</tr></table>"
   ]
  },
  {
   "cell_type": "markdown",
   "metadata": {
    "slideshow": {
     "slide_type": "slide"
    }
   },
   "source": [
    "## What if humans can train the machines ..."
   ]
  },
  {
   "cell_type": "markdown",
   "metadata": {
    "slideshow": {
     "slide_type": "-"
    }
   },
   "source": [
    "<div>\n",
    "<center>\n",
    "<img src=\"img/quest/Qimage-3.JPG\" width=\"650\"/>\n",
    "</div>"
   ]
  },
  {
   "cell_type": "markdown",
   "metadata": {
    "slideshow": {
     "slide_type": "fragment"
    }
   },
   "source": [
    "* This is what is called Machine Learning! <br>\n",
    "* But, it is more than just **learning**!\n",
    "* It is also about **underestanding** and **reasoning**.\n",
    "\n"
   ]
  },
  {
   "cell_type": "markdown",
   "metadata": {
    "slideshow": {
     "slide_type": "slide"
    }
   },
   "source": [
    "## Basics of Machine Learning"
   ]
  },
  {
   "cell_type": "markdown",
   "metadata": {
    "slideshow": {
     "slide_type": "-"
    }
   },
   "source": [
    "* This is Paul.\n",
    "* Suppose Paul is listening to songs ...\n",
    "<div>\n",
    "<center>\n",
    "<img src=\"img/quest/Qimage-5.JPG\" width=\"700\"/>\n",
    "</div>"
   ]
  },
  {
   "cell_type": "markdown",
   "metadata": {
    "slideshow": {
     "slide_type": "slide"
    }
   },
   "source": [
    "He decides based on ...\n",
    "<div>\n",
    "<center>\n",
    "<img src=\"img/quest/Qimage-6.JPG\" width=\"1000\"/>\n",
    "</div>"
   ]
  },
  {
   "cell_type": "markdown",
   "metadata": {
    "slideshow": {
     "slide_type": "slide"
    }
   },
   "source": [
    "Let's only look at the **tempo** and **intensity** ...\n",
    "<div>\n",
    "<center>\n",
    "<img src=\"img/quest/Qimage-7.JPG\" width=\"1000\"/>\n",
    "</div>"
   ]
  },
  {
   "cell_type": "markdown",
   "metadata": {
    "slideshow": {
     "slide_type": "fragment"
    }
   },
   "source": [
    "Now, we know Pual's choices!"
   ]
  },
  {
   "cell_type": "markdown",
   "metadata": {
    "slideshow": {
     "slide_type": "slide"
    }
   },
   "source": [
    "Let's say that Paul listens to a new song A ...\n",
    "<div>\n",
    "<center>\n",
    "<img src=\"img/quest/Qimage-8.JPG\" width=\"1000\"/>\n",
    "</div>"
   ]
  },
  {
   "cell_type": "markdown",
   "metadata": {
    "slideshow": {
     "slide_type": "fragment"
    }
   },
   "source": [
    "looking at the data, can you guess whether Paul will like the song or not?"
   ]
  },
  {
   "cell_type": "markdown",
   "metadata": {
    "slideshow": {
     "slide_type": "fragment"
    }
   },
   "source": [
    "* Looking at the Paul's past choices, we were able to classify song A."
   ]
  },
  {
   "cell_type": "markdown",
   "metadata": {
    "slideshow": {
     "slide_type": "slide"
    }
   },
   "source": [
    "Let's look at another song B ...\n",
    "<div>\n",
    "<center>\n",
    "<img src=\"img/quest/Qimage-9.JPG\" width=\"1000\"/>\n",
    "</div>"
   ]
  },
  {
   "cell_type": "markdown",
   "metadata": {
    "slideshow": {
     "slide_type": "fragment"
    }
   },
   "source": [
    "Now, can you guess whether Paul likes Song B or not?"
   ]
  },
  {
   "cell_type": "markdown",
   "metadata": {
    "slideshow": {
     "slide_type": "fragment"
    }
   },
   "source": [
    "That is where Machine Learning comes in ..."
   ]
  },
  {
   "cell_type": "markdown",
   "metadata": {
    "slideshow": {
     "slide_type": "slide"
    }
   },
   "source": [
    "What if we draw a circle around Song B?\n",
    "<div>\n",
    "<center>\n",
    "<img src=\"img/quest/Qimage-10.JPG\" width=\"1000\"/>\n",
    "</div>"
   ]
  },
  {
   "cell_type": "markdown",
   "metadata": {
    "slideshow": {
     "slide_type": "fragment"
    }
   },
   "source": [
    "* We see that there are 4 votes for like whereas there is only 1 vote for dislike!\n",
    "* Based on the votes, we can see that Paul will definitely **like the song**.\n",
    "* This is a simple example of a basic machine learning algorithm called **K-Nearest Neighbors** algorithm."
   ]
  },
  {
   "cell_type": "markdown",
   "metadata": {
    "slideshow": {
     "slide_type": "slide"
    }
   },
   "source": [
    "## A Basic Rule of Thumb in Machine Learning "
   ]
  },
  {
   "cell_type": "markdown",
   "metadata": {
    "slideshow": {
     "slide_type": "-"
    }
   },
   "source": [
    "**MORE DATA  ->  BETTER MODEL  ->  HIGHER ACCURACY**"
   ]
  },
  {
   "cell_type": "markdown",
   "metadata": {
    "slideshow": {
     "slide_type": "slide"
    }
   },
   "source": [
    "# 3. Machine Learning Categories"
   ]
  },
  {
   "cell_type": "markdown",
   "metadata": {
    "slideshow": {
     "slide_type": "-"
    }
   },
   "source": [
    "There are many ways in which a machine learns:\n",
    "<div>\n",
    "<center>\n",
    "<img src=\"img/quest/Qimage-11.JPG\" width=\"1000\"/>\n",
    "</div>"
   ]
  },
  {
   "cell_type": "markdown",
   "metadata": {
    "slideshow": {
     "slide_type": "slide"
    }
   },
   "source": [
    "## Supervised Learning"
   ]
  },
  {
   "cell_type": "markdown",
   "metadata": {
    "slideshow": {
     "slide_type": "-"
    }
   },
   "source": [
    "* Suppose your friend gives 1 million coins of 3 different currencies\n",
    "<div>\n",
    "<center>\n",
    "<img src=\"img/quest/Qimage-12.JPG\" width=\"1000\"/>\n",
    "</div>"
   ]
  },
  {
   "cell_type": "markdown",
   "metadata": {
    "slideshow": {
     "slide_type": "fragment"
    }
   },
   "source": [
    "Your model predicts the weight of each currency.\n",
    "* Weight = Feature\n",
    "* Currency = Label\n",
    "Machine Learning model **learns** from the **data** of which **feature** is associated with which **label**. "
   ]
  },
  {
   "cell_type": "markdown",
   "metadata": {
    "slideshow": {
     "slide_type": "slide"
    }
   },
   "source": [
    "Let's give a new coin to the machine ...\n",
    "<div>\n",
    "<center>\n",
    "<img src=\"img/quest/Qimage-13.JPG\" width=\"1000\"/>\n",
    "</div>"
   ]
  },
  {
   "cell_type": "markdown",
   "metadata": {
    "slideshow": {
     "slide_type": "slide"
    }
   },
   "source": [
    "## Unsupervised Learning"
   ]
  },
  {
   "cell_type": "markdown",
   "metadata": {
    "slideshow": {
     "slide_type": "-"
    }
   },
   "source": [
    "* There is no **Labeled Data**\n",
    "<div>\n",
    "<center>\n",
    "<img src=\"img/quest/Qimage-14b.png\" width=\"1000\"/>\n",
    "</div>"
   ]
  },
  {
   "cell_type": "markdown",
   "metadata": {
    "slideshow": {
     "slide_type": "slide"
    }
   },
   "source": [
    "## Reinforcement Learning (Reward Based Learning)"
   ]
  },
  {
   "cell_type": "markdown",
   "metadata": {
    "slideshow": {
     "slide_type": "-"
    }
   },
   "source": [
    "* Let's say that you provide the system with an image of a dog and ask if it can identify it ... <br>\n",
    "* If it identifies it as a **cat**, you give **negative feedback**. \n",
    "\n",
    "<div>\n",
    "<center>\n",
    "<img src=\"img/quest/Qimage-15.JPG\" width=\"500\"/>\n",
    "</div>"
   ]
  },
  {
   "cell_type": "markdown",
   "metadata": {
    "slideshow": {
     "slide_type": "fragment"
    }
   },
   "source": [
    "<div>\n",
    "<center>\n",
    "<img src=\"img/quest/Qimage-16.JPG\" width=\"500\"/>\n",
    "</div>"
   ]
  },
  {
   "cell_type": "markdown",
   "metadata": {
    "slideshow": {
     "slide_type": "slide"
    }
   },
   "source": [
    "## Generalized Machine Learning Model/Workflow"
   ]
  },
  {
   "cell_type": "markdown",
   "metadata": {
    "slideshow": {
     "slide_type": "-"
    }
   },
   "source": [
    "1. Input is given to a machine learning model, which then gives an output. \n",
    "2. If the output is right, we take the output as a final result.\n",
    "3. Else, we provide feedback to the model and ask it to predict until it learns."
   ]
  },
  {
   "cell_type": "markdown",
   "metadata": {
    "slideshow": {
     "slide_type": "-"
    }
   },
   "source": [
    "<div>\n",
    "<center>\n",
    "<img src=\"img/quest/Qimage-17.JPG\" width=\"800\"/>\n",
    "</div>"
   ]
  },
  {
   "cell_type": "markdown",
   "metadata": {
    "slideshow": {
     "slide_type": "slide"
    }
   },
   "source": [
    "# Quiz"
   ]
  },
  {
   "cell_type": "markdown",
   "metadata": {
    "slideshow": {
     "slide_type": "-"
    }
   },
   "source": [
    "Determine whether the below scenarios are **Supervised** or **Unsupervised**?\n",
    "\n",
    "**Scenario 1**: Facebook recognizes your friends in a picture from an album and tagged photographs.<br>\n",
    "**Scenario 2**: Netflix recommends new movie based on someone's past movie choices.<br>\n",
    "**Scenario 3**: Analysis bank data for suspicious transactions and flagging flag transactions.<br>\n",
    "\n",
    "\n",
    "<div>\n",
    "<center>\n",
    "<img src=\"img/quest/Qimage-18.JPG\" width=\"1000\"/>\n",
    "</div>"
   ]
  },
  {
   "cell_type": "markdown",
   "metadata": {
    "slideshow": {
     "slide_type": "slide"
    }
   },
   "source": [
    "## Why Machine Learning Is Possible Today?  "
   ]
  },
  {
   "cell_type": "markdown",
   "metadata": {
    "slideshow": {
     "slide_type": "-"
    }
   },
   "source": [
    "* Everybody is online either using cellphones or just surfing the internet.\n",
    "* That is generating a huge amount amount of data every minute.\n",
    "<div>\n",
    "<center>\n",
    "<img src=\"img/quest/Qimage-20.JPG\" width=\"400\"/>\n",
    "</div>"
   ]
  },
  {
   "cell_type": "markdown",
   "metadata": {
    "slideshow": {
     "slide_type": "fragment"
    }
   },
   "source": [
    "**In addition,**\n",
    "* The memory handling capabilities of computers have extensively increased.\n",
    "* Computers has also now great computational power."
   ]
  },
  {
   "cell_type": "markdown",
   "metadata": {
    "slideshow": {
     "slide_type": "slide"
    }
   },
   "source": [
    "# 4. Machine Learning Applications"
   ]
  },
  {
   "cell_type": "markdown",
   "metadata": {
    "slideshow": {
     "slide_type": "fragment"
    }
   },
   "source": [
    "<div>\n",
    "\n",
    "<table><tr>\n",
    "<td>\n",
    "    \n",
    "* **Energy**\n",
    "    1. Outage detection and prediction\n",
    "    2. Preventive equipment maintenance\n",
    "    3. Demand response management\n",
    "    4. Optimizing asset performance & fault diagnosis\n",
    "    5. Smart buildings\n",
    "    \n",
    "</td>\n",
    "<td>\n",
    "    \n",
    "<img src=\"img/quest/Qimage-23.JPG\" width=\"300\"/>\n",
    "    \n",
    "</td>\n",
    "</tr></table>"
   ]
  },
  {
   "cell_type": "markdown",
   "metadata": {
    "slideshow": {
     "slide_type": "slide"
    }
   },
   "source": [
    "<div>\n",
    "\n",
    "<table><tr>\n",
    "<td>\n",
    "    \n",
    "* **Healthcare**\n",
    "    1. Patient Risk Identification\n",
    "    2. Identifying diseases and diagnosis\n",
    "    3. Personalized medicine\n",
    "    4. Smart health records\n",
    "    5. Medical imaging diagnosis\n",
    "    \n",
    "</td>\n",
    "<td>\n",
    "    \n",
    "<img src=\"img/quest/Qimage-22.JPG\" width=\"300\"/>\n",
    "    \n",
    "</td>\n",
    "</tr></table>"
   ]
  },
  {
   "cell_type": "markdown",
   "metadata": {
    "slideshow": {
     "slide_type": "slide"
    }
   },
   "source": [
    "## Impact of Machine Learning Research in Health- and Energy-Informaics "
   ]
  },
  {
   "cell_type": "markdown",
   "metadata": {
    "slideshow": {
     "slide_type": "-"
    }
   },
   "source": [
    "<div>\n",
    "\n",
    "<table><tr>\n",
    "<td>\n",
    "    \n",
    "<img src=\"img/quest/Qimage-25.JPG\" width=\"400\"/>\n",
    "    \n",
    "</td>\n",
    "<td>\n",
    "    \n",
    "<img src=\"img/quest/Qimage-26.JPG\" width=\"400\"/>\n",
    "    \n",
    "</td>\n",
    "</tr></table>"
   ]
  },
  {
   "cell_type": "markdown",
   "metadata": {
    "slideshow": {
     "slide_type": "slide"
    }
   },
   "source": [
    "# 5. Machine Learning Ecosystem"
   ]
  },
  {
   "cell_type": "markdown",
   "metadata": {
    "slideshow": {
     "slide_type": "-"
    }
   },
   "source": [
    "## Machine Learning, AI, and Deep Learning"
   ]
  },
  {
   "cell_type": "markdown",
   "metadata": {
    "slideshow": {
     "slide_type": "-"
    }
   },
   "source": [
    "<div>\n",
    "<center>\n",
    "<img src=\"img/quest/Qimage-27.jpg\" width=\"300\"/>\n",
    "</div>\n",
    "\n",
    "* **AI:** A system that achieves intelligence through rules.\n",
    "* **ML:** Algorithms that learn the rules and representations from data *automatically*.\n",
    "* **DL:** Algorithms that learn the parameters of multilayer neural networks to extract the representation of data with multiple layers of abstracion."
   ]
  },
  {
   "cell_type": "markdown",
   "metadata": {
    "slideshow": {
     "slide_type": "slide"
    }
   },
   "source": [
    "## Python and Machine Learning"
   ]
  },
  {
   "cell_type": "markdown",
   "metadata": {
    "slideshow": {
     "slide_type": "-"
    }
   },
   "source": [
    "<div>\n",
    "<center>\n",
    "<img src=\"img/quest/Qimage-28.jpg\" width=\"700\"/>\n",
    "</div>\n",
    "    \n",
    "https://speakerdeck.com/jakevdp/the-state-of-the-stack-scipy-2015-keynote?slide=8"
   ]
  },
  {
   "cell_type": "markdown",
   "metadata": {
    "slideshow": {
     "slide_type": "slide"
    }
   },
   "source": [
    "# 6. Course Setup"
   ]
  },
  {
   "cell_type": "markdown",
   "metadata": {
    "slideshow": {
     "slide_type": "slide"
    }
   },
   "source": [
    "## 6.1 Course Syllabus"
   ]
  },
  {
   "cell_type": "markdown",
   "metadata": {
    "slideshow": {
     "slide_type": "-"
    }
   },
   "source": [
    "* You can find full course syllabus and plan on itslearning --> Plans [here](https://sdu.itslearning.com/ContentArea/ContentArea.aspx?LocationID=31289&LocationType=1)."
   ]
  },
  {
   "cell_type": "markdown",
   "metadata": {
    "slideshow": {
     "slide_type": "slide"
    }
   },
   "source": [
    "## 6.2 Course goal"
   ]
  },
  {
   "cell_type": "markdown",
   "metadata": {
    "slideshow": {
     "slide_type": "-"
    }
   },
   "source": [
    "This course is intended to train students to: \n",
    "* be able to apply ML algorithms and methods in practice \n",
    "* have the skills to consider the pros and cons of different ML methods  \n",
    "* be able to choose appropriate ML methods for different applications/problems \n",
    "* design and implement ML models in Python \n",
    "* be able to document and present the obtained results using appropriate measures "
   ]
  },
  {
   "cell_type": "markdown",
   "metadata": {
    "slideshow": {
     "slide_type": "slide"
    }
   },
   "source": [
    "## 6.3 Course materials:"
   ]
  },
  {
   "cell_type": "markdown",
   "metadata": {
    "slideshow": {
     "slide_type": "-"
    }
   },
   "source": [
    "* [Introduction to machine learning with python](https://www.oreilly.com/library/view/introduction-to-machine/9781449369880/), By Andreas C. Müller, Sarah Guido. O'Reilly Media, 2016. (we refer to this as “IntroML”) \n",
    "* [Python Data Science Handbook], by Jake VanderPlas (free online book). (we refer to this as “PyDS”) (https://github.com/jakevdp/PythonDataScienceHandbook)\n",
    "* Whirlwind Tour of Python, by Jake VanderPlas (free online book). (we refer to this as “PyTour”) (https://jakevdp.github.io/WhirlwindTourOfPython/)\n",
    "* Hands-on machine learning with Scikit-Learn, Keras, and TensorFlow: Concepts, tools, and techniques to build intelligent systems, by Aurélien Géron. O'Reilly Media, 2019. (we refer to this as “Hands-on ML”) (https://www.oreilly.com/library/view/hands-on-machine-learning/9781491962282/)"
   ]
  },
  {
   "cell_type": "markdown",
   "metadata": {
    "slideshow": {
     "slide_type": "fragment"
    }
   },
   "source": [
    "**NOTE:** You will also need a laptop, which is capable of displaying and outputting graphics and running a web browser. Our laptops will be used in every session to do demos, hands-on tutorials and exercises, and presentations. "
   ]
  },
  {
   "cell_type": "markdown",
   "metadata": {
    "slideshow": {
     "slide_type": "slide"
    }
   },
   "source": [
    "## 6.4 Computational setup"
   ]
  },
  {
   "cell_type": "markdown",
   "metadata": {
    "slideshow": {
     "slide_type": "-"
    }
   },
   "source": [
    "**Anaconda:** [Anaconda](https://www.anaconda.com/) can be downloaded and installed in order to use Jupyter Notebooks as a stand-alone solution on your machines/laptops. \n",
    "* We will use Anaconda to to develop and data analysis. \n",
    "* This will provide us an easy-to-use tool for writing text, code, and generating plots all in a single format called “notebook”. And many more!\n",
    "* It is also free!"
   ]
  },
  {
   "cell_type": "markdown",
   "metadata": {
    "slideshow": {
     "slide_type": "fragment"
    }
   },
   "source": [
    "**Colaboratory:** You may also use [Google Colaboratory](https://colab.research.google.com/notebooks/intro.ipynb).\n",
    "* This will provide us an easy-to-use tool for writing text, code, and generating plots all in a single format called “notebook”.\n",
    "* It is a free tool.\n",
    "* In addition, Colaboratory runs all the codes on Google Cloud servers rather than your personal computer. This helps a lot to run the codes hassle-free.   "
   ]
  },
  {
   "cell_type": "markdown",
   "metadata": {
    "slideshow": {
     "slide_type": "slide"
    }
   },
   "source": [
    "**Git & GitHub:** In addition to itslearning, we will use [GitHub](https://github.com/) to manage and share code and data.\n",
    "* GitHub is a very efficient way of managing multiple versions of data and codes.\n",
    "* You can share your codes with others easily.\n",
    "* Again, is is free!\n",
    "* Please create a GitHub account (free) **with your SDU email address** if you have not already done it.\n",
    "* You will also need to [download and install Git](https://git-scm.com/downloads) on your machines/laptops."
   ]
  },
  {
   "cell_type": "markdown",
   "metadata": {
    "slideshow": {
     "slide_type": "slide"
    }
   },
   "source": [
    "## 6.5 Zoom"
   ]
  },
  {
   "cell_type": "markdown",
   "metadata": {
    "slideshow": {
     "slide_type": "-"
    }
   },
   "source": [
    "* Lectures will be streamlined and/or recorded and posted to itslearning so that all students can access or revisit the lectures. \n",
    "* If you do not want to appear in the recording, or if you want me to exclude a specific comment or time interval from the recording, please let me know.\n",
    "\n",
    "\n",
    "**Reach out to me if you have requests or concerns!**"
   ]
  },
  {
   "cell_type": "markdown",
   "metadata": {
    "slideshow": {
     "slide_type": "slide"
    }
   },
   "source": [
    "## 6.6 Grading"
   ]
  },
  {
   "cell_type": "markdown",
   "metadata": {
    "slideshow": {
     "slide_type": "-"
    }
   },
   "source": [
    "### Assignments"
   ]
  },
  {
   "cell_type": "markdown",
   "metadata": {
    "slideshow": {
     "slide_type": "-"
    }
   },
   "source": [
    "* All course assignments will be assigned a point value, added together, and converted to the nearest equivalent grade as follows:\n",
    "\n",
    "(92-100) -> 12<br>\n",
    "(84-91)  -> 10<br>\n",
    "(68-83)  -> 7<br>\n",
    "(60-67)  -> 4<br>\n",
    "(50-59)  -> 02<br>\n",
    "(20-49)  -> 00<br>\n",
    "(0-19)   -> -3<br>"
   ]
  },
  {
   "cell_type": "markdown",
   "metadata": {
    "slideshow": {
     "slide_type": "slide"
    }
   },
   "source": [
    "### Written report"
   ]
  },
  {
   "cell_type": "markdown",
   "metadata": {
    "slideshow": {
     "slide_type": "-"
    }
   },
   "source": [
    "* The report of each group will be assessed in the following format:"
   ]
  },
  {
   "cell_type": "markdown",
   "metadata": {
    "slideshow": {
     "slide_type": "fragment"
    }
   },
   "source": [
    "*_Abstract: 15 pts_*\n",
    "* Is enough information provided get a clear idea about the subject matter? \n",
    "* Are the main points of the report described succinctly? "
   ]
  },
  {
   "cell_type": "markdown",
   "metadata": {
    "slideshow": {
     "slide_type": "fragment"
    }
   },
   "source": [
    "*_Introduction: 15 pts_*\n",
    "* Does the introduction cover the required background information to understand the work? \n",
    "* Is the introduction well organized: it starts out general and becomes more specific towards the end? \n",
    "* Is there a motivation explaining why this project is relevant, important, and/or interesting? "
   ]
  },
  {
   "cell_type": "markdown",
   "metadata": {
    "slideshow": {
     "slide_type": "slide"
    }
   },
   "source": [
    "*_Related Work: 15 pts_*\n",
    "* Is the similar and related work discussed adequately? \n",
    "* Are references cited properly (here, but also throughout the whole paper)? \n",
    "* Is the discussion or paragraph on comparing this project with other people's work adequate? "
   ]
  },
  {
   "cell_type": "markdown",
   "metadata": {
    "slideshow": {
     "slide_type": "fragment"
    }
   },
   "source": [
    "*_Proposed Method: 25 pts_*\n",
    "* Are there any missing descriptions of symbols used in mathematical notations (if applicable)? \n",
    "* Are the main algorithms described well enough so that they can be implemented by a knowledgeable reader? "
   ]
  },
  {
   "cell_type": "markdown",
   "metadata": {
    "slideshow": {
     "slide_type": "fragment"
    }
   },
   "source": [
    "*_Experiments: 25 pts_*\n",
    "* Is the experimental setup and methodology described well enough so that it can be repeated? \n",
    "* If datasets are used, are they referenced appropriately? "
   ]
  },
  {
   "cell_type": "markdown",
   "metadata": {
    "slideshow": {
     "slide_type": "slide"
    }
   },
   "source": [
    "*_Results and Discussion: 30 pts_*\n",
    "* Are the results described clearly? \n",
    "* Is the data analyzed well, and are the results logical? \n",
    "* Are the figures clear and have no missing labels? \n",
    "* Do the figure captions have sufficient information to understand the figure? \n",
    "* Is each figure referenced in the text? \n",
    "* Is the discussion critical/honest, and are potential weaknesses/shortcomings are discussed as well? "
   ]
  },
  {
   "cell_type": "markdown",
   "metadata": {
    "slideshow": {
     "slide_type": "fragment"
    }
   },
   "source": [
    "*_Conclusions: 15 pts_*\n",
    "* Do the authors describe whether the initial motivation/task was accomplished or not based on the results? \n",
    "* Is it discussed adequately how the results relate to previous work? \n",
    "* If applicable, are potential future directions given? "
   ]
  },
  {
   "cell_type": "markdown",
   "metadata": {
    "slideshow": {
     "slide_type": "slide"
    }
   },
   "source": [
    "*_Contributions: 10 pts_*\n",
    "* Are all contributions listed clearly? \n",
    "* Did each member contribute approximately equally to the project? "
   ]
  },
  {
   "cell_type": "markdown",
   "metadata": {
    "slideshow": {
     "slide_type": "fragment"
    }
   },
   "source": [
    "The report will be assigned a point value and converted to the nearest equivalent grade as follows:<br>\n",
    "\n",
    "(131-150) -> 12<br>\n",
    "(105-130) -> 10<br>\n",
    "(80-104) -> 7<br>\n",
    "(60-79) -> 4<br>\n",
    "(40-59) -> 02<br>\n",
    "(20-39) -> 00<br>\n",
    "(0-19) -> -3"
   ]
  },
  {
   "cell_type": "markdown",
   "metadata": {
    "slideshow": {
     "slide_type": "slide"
    }
   },
   "source": [
    "### Midterm project progress presentation"
   ]
  },
  {
   "cell_type": "markdown",
   "metadata": {
    "slideshow": {
     "slide_type": "-"
    }
   },
   "source": [
    "* On Week 16, each group present their project progress (even though it is not completed yet) to the class.\n",
    "* The presentation should cover the following:\n",
    "    1. *introduce the project and the topic to the class.*\n",
    "    2. *discuss the main method*\n",
    "    3. *present the results of the analysis* "
   ]
  },
  {
   "cell_type": "markdown",
   "metadata": {
    "slideshow": {
     "slide_type": "fragment"
    }
   },
   "source": [
    "* Each presentation should be maximum 6 minutes, and there will be 2 minutes for questions and answers.\n",
    "* All the group members should participate in the presentation."
   ]
  },
  {
   "cell_type": "markdown",
   "metadata": {
    "slideshow": {
     "slide_type": "slide"
    }
   },
   "source": [
    "* There will be also three categories: \n",
    "    1. *Oral presentation*\n",
    "    2. *Visualization*\n",
    "    3. *Creative approach*"
   ]
  },
  {
   "cell_type": "markdown",
   "metadata": {
    "slideshow": {
     "slide_type": "fragment"
    }
   },
   "source": [
    "* The  winner(s)  will  be  determined by other students’ votes.\n",
    "* The voting  will  be conducted  using  PollEverywhere  software  (will  be  introduced  later  on).\n",
    "* Each student votes as follows: \n",
    "    * Group 1: (Best oral presentation)/10, (Best visualization)/10, (Most creative approach)/10 \n",
    "    * Group 2: (Best oral presentation)/10, (Best visualization)/10, (Most creative approach)/10 \n",
    "    * Group 3: (Best oral presentation)/10, (Best visualization)/10, (Most creative approach)/10\n",
    "    * ..."
   ]
  },
  {
   "cell_type": "markdown",
   "metadata": {
    "slideshow": {
     "slide_type": "fragment"
    }
   },
   "source": [
    "**NOTE:** It is mandatory for all the students to vote.This means that if a student does not submit her/his vote for all the presentations, they will not receive any grade for the midterm presentation."
   ]
  },
  {
   "cell_type": "markdown",
   "metadata": {
    "slideshow": {
     "slide_type": "slide"
    }
   },
   "source": [
    "### Final exam (presentation)"
   ]
  },
  {
   "cell_type": "markdown",
   "metadata": {
    "slideshow": {
     "slide_type": "-"
    }
   },
   "source": [
    "* Each student (individually) will give a presentation based on the report.\n",
    "* Afterwards, there will be questions based on their presentation, report, and the whole curriculum. "
   ]
  },
  {
   "cell_type": "markdown",
   "metadata": {
    "slideshow": {
     "slide_type": "slide"
    }
   },
   "source": [
    "# IMPORTANT"
   ]
  },
  {
   "cell_type": "markdown",
   "metadata": {
    "slideshow": {
     "slide_type": "-"
    }
   },
   "source": [
    "* It is mandatory to submit the project report to be able to attend the exam. \n",
    "* In addition, submitting at least two assignments and attend the midterm presentation is a green pass to sit in the final exam."
   ]
  },
  {
   "cell_type": "markdown",
   "metadata": {
    "slideshow": {
     "slide_type": "slide"
    }
   },
   "source": [
    "## 6.7. Group Project and Report Template"
   ]
  },
  {
   "cell_type": "markdown",
   "metadata": {
    "slideshow": {
     "slide_type": "-"
    }
   },
   "source": [
    "* The students will team up in groups of 2-4 people to do their project and write the report at the beginning of the semester. \n",
    "* One of the team members should send the list of team members to me **no later than 11th of February**.\n",
    "* Otherwise, you will be randomly assigned to a group. \n",
    "* Each group will choose a dataset from the list **no later than 18th of February**.\n",
    "   "
   ]
  },
  {
   "cell_type": "markdown",
   "metadata": {
    "slideshow": {
     "slide_type": "slide"
    }
   },
   "source": [
    "**Energy**:\n",
    "\n",
    "*Kaggle*\n",
    "\n",
    "* [3W Dataset - Undesirable events in oil wells](https://www.kaggle.com/datasets/afrniomelo/3w-dataset)\n",
    "* [Electrical Fault detection and classification](https://www.kaggle.com/datasets/esathyaprakash/electrical-fault-detection-and-classification)\n",
    "* [NASA Turbofan Jet Engine Data Set](https://www.kaggle.com/behrad3d/nasa-cmaps)\n",
    "* [Transformer fault Analysis](https://www.kaggle.com/datasets/pythonafroz/transformer-fault-analysis)\n",
    "* [Power Grid Fault Detection Data](https://www.kaggle.com/himanshu36/time-series-classification/notebooks)\n",
    "* [Energy Efficiency Data Set](https://www.kaggle.com/datasets/ujjwalchowdhury/energy-efficiency-data-set)\n",
    "* [Household appliances power consumption](https://www.kaggle.com/datasets/ecoco2/household-appliances-power-consumption)\n",
    "* [Power Quality Classification Dataset - 2](https://www.kaggle.com/datasets/aswarthnarayanacv/power-quality-distribution-dataset-2)\n",
    "* [Predictive Maintenance Dataset (AI4I 2020)](https://www.kaggle.com/datasets/stephanmatzka/predictive-maintenance-dataset-ai4i-2020)\n",
    "* [Versatile Production System](https://www.kaggle.com/datasets/inIT-OWL/versatileproductionsystem)\n",
    "\n",
    "*UCI Data Sets*\n",
    "* [Condition Monitoring of Hydraulic Systems Data Set](https://archive.ics.uci.edu/ml/datasets/Condition+monitoring+of+hydraulic+systems)\n",
    "\n"
   ]
  },
  {
   "cell_type": "markdown",
   "metadata": {
    "slideshow": {
     "slide_type": "slide"
    }
   },
   "source": [
    "**Health**:\n",
    "\n",
    "*Kaggle*\n",
    "* [Dermatology Dataset](https://www.kaggle.com/datasets/olcaybolat1/dermatology-dataset-classification)\n",
    "* [Disease Symptoms and Patient Profile Dataset](https://www.kaggle.com/datasets/uom190346a/disease-symptoms-and-patient-profile-dataset)\n",
    "* [Healthcare Dataset](https://www.kaggle.com/datasets/prasad22/healthcare-dataset)\n",
    "* [Diabetes Health Indicators Dataset](https://www.kaggle.com/datasets/julnazz/diabetes-health-indicators-dataset/data)\n",
    "* [High School Alcoholism and Academic Performance](https://www.kaggle.com/datasets/gabrielluizone/high-school-alcoholism-and-academic-performance/data)\n",
    "* [Multiple Sclerosis Disease](https://www.kaggle.com/datasets/desalegngeb/conversion-predictors-of-cis-to-multiple-sclerosis)\n",
    "* [Dementia Prediction Dataset](https://www.kaggle.com/datasets/richiemighty/dementia-prediction-dataset)\n",
    "* [Diabetes prediction dataset](https://www.kaggle.com/datasets/iammustafatz/diabetes-prediction-dataset)\n",
    "* [Cancer Data](https://www.kaggle.com/datasets/erdemtaha/cancer-data)\n",
    "* [COVID-19 Dataset](https://www.kaggle.com/datasets/meirnizri/covid19-dataset)\n",
    "* [Medical Vulnerability dataset](https://www.kaggle.com/datasets/rahulgolder/medical-vulnerability-dataset)\n",
    "* [Fertile man semen parameters 2020 – WHO](https://www.kaggle.com/datasets/zzettrkalpakbal/fertile-man-semen-parameters-2020-who)\n",
    "\n",
    "*UCI Data Sets*\n",
    "* [Activity Recognition With Healthy Older People Using a Batteryless Wearable Sensor Data Set](https://archive.ics.uci.edu/ml/datasets/Activity+recognition+with+healthy+older+people+using+a+batteryless+wearable+sensor)\n",
    "* [Activity Recognition Using Wearable Physiological Measurements Data Set](https://archive.ics.uci.edu/ml/datasets/Activity+recognition+using+wearable+physiological+measurements)"
   ]
  },
  {
   "cell_type": "markdown",
   "metadata": {
    "slideshow": {
     "slide_type": "slide"
    }
   },
   "source": [
    "* The deadline for submitting the detailed final project report will be on **26th of May at 23:59**.\n",
    "* Remember that you should **submit both the report (PDF and .tex files) and the Python codes** you used for this project via itslearning.\n",
    "* Also, only one member per team needs to submit the project material.\n",
    "* The project report should be **maximum 20 pages long (not counting references)** and should contain the sections that are already provided in the [LaTeX project template on Overleaf](https://www.overleaf.com/read/crtctkcswfcq).\n",
    "* Please use [Overleaf](https://www.overleaf.com/) to write your report.\n",
    "* Overleaf is an online and collaborative LaTeX editor so that all the team members can see and edit the report.\n",
    "* You may need to register to use Overleaf if you do not have an account already. **Please use your SDU email address to open an account**. "
   ]
  },
  {
   "cell_type": "markdown",
   "metadata": {
    "slideshow": {
     "slide_type": "fragment"
    }
   },
   "source": [
    "**NOTE:** Please read the template thoroughly. There are more details regarding how to use it in there. "
   ]
  },
  {
   "cell_type": "markdown",
   "metadata": {
    "slideshow": {
     "slide_type": "slide"
    }
   },
   "source": [
    "## 6.8 Late Submission Policy"
   ]
  },
  {
   "cell_type": "markdown",
   "metadata": {
    "slideshow": {
     "slide_type": "-"
    }
   },
   "source": [
    "Assignments and projects that are submitted late will be considered as follows: \n",
    "* If it is submitted within 12 hours of the deadline (late), there will be 10% deduction from the points. \n",
    "* If it is submitted within 12 and 24 hours of the deadline (late), there will be 20% deduction from the points. \n",
    "* If it is submitted more than 24 hours of the deadline (late), there will be no points (zero point).  "
   ]
  },
  {
   "cell_type": "markdown",
   "metadata": {
    "slideshow": {
     "slide_type": "slide"
    }
   },
   "source": [
    "## 6.9 Proper Academic Practice"
   ]
  },
  {
   "cell_type": "markdown",
   "metadata": {
    "slideshow": {
     "slide_type": "-"
    }
   },
   "source": [
    "I expect you to abide by [SDU’s Proper Academic Practice](https://mitsdu.dk/-/media/files/information_til/studerende_ved_sdu/eksamen/1proper+academic+practice+gb+-+november+2016.pdf) at all times. \n",
    "\n",
    "I encourage you to discuss your assignments and projects with your classmates. However, it is expected that these should be completed by you. \n",
    "\n",
    "Furthermore, you cannot re-use projects from other sources without modifying them. You should simply submit your own assignments and projects, even if you discussed them with others."
   ]
  },
  {
   "cell_type": "markdown",
   "metadata": {
    "slideshow": {
     "slide_type": "slide"
    }
   },
   "source": [
    "## 6.10 Scheduling conflicts"
   ]
  },
  {
   "cell_type": "markdown",
   "metadata": {
    "slideshow": {
     "slide_type": "-"
    }
   },
   "source": [
    "I expect you to take part in the course and attend the lectures, in-class discussions, give presentations, and complete assignments/exercises and tutorials. \n",
    "\n",
    "However, I also understand that in some special circumstances and fixed-schedule activities, you may miss the class. \n",
    "\n",
    "**Please contact me before the end of Week 6 to discuss this, if you have any scheduling conflicts.**"
   ]
  },
  {
   "cell_type": "markdown",
   "metadata": {
    "slideshow": {
     "slide_type": "slide"
    }
   },
   "source": [
    "# Feedback during the semester."
   ]
  },
  {
   "cell_type": "markdown",
   "metadata": {
    "slideshow": {
     "slide_type": "-"
    }
   },
   "source": [
    "Please provide your anonymous feedback [here](https://PollEv.com/free_text_polls/SmEu5V81PYYhUexvP7YsD/respond)"
   ]
  },
  {
   "cell_type": "markdown",
   "metadata": {
    "slideshow": {
     "slide_type": "slide"
    }
   },
   "source": [
    "# Thank you!"
   ]
  }
 ],
 "metadata": {
  "celltoolbar": "Slideshow",
  "kernelspec": {
   "display_name": "Python 3 (ipykernel)",
   "language": "python",
   "name": "python3"
  },
  "language_info": {
   "codemirror_mode": {
    "name": "ipython",
    "version": 3
   },
   "file_extension": ".py",
   "mimetype": "text/x-python",
   "name": "python",
   "nbconvert_exporter": "python",
   "pygments_lexer": "ipython3",
   "version": "3.9.7"
  },
  "rise": {
   "enable_chalkboard": true
  }
 },
 "nbformat": 4,
 "nbformat_minor": 4
}
